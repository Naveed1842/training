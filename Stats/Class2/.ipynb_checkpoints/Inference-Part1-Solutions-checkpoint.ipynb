{
 "metadata": {
  "name": "",
  "signature": "sha256:5a2072b2557910529a0768e4c4f6e2b6df4f6e927b4e764e6dbf8e5dbf1b4df7"
 },
 "nbformat": 3,
 "nbformat_minor": 0,
 "worksheets": [
  {
   "cells": [
    {
     "cell_type": "code",
     "collapsed": false,
     "input": [
      "import numpy as np\n",
      "from numpy import nan as NA\n",
      "import pandas as pd\n",
      "import matplotlib as mpl\n",
      "import matplotlib.pyplot as plt\n",
      "from scipy.stats import norm\n",
      "from pylab import *\n",
      "import random\n",
      "import scipy.stats as stats\n",
      "\n",
      "import pylab\n",
      "\n",
      "\n",
      "from scipy.stats import norm\n",
      "from scipy.stats import t\n",
      "from scipy.stats import f_oneway\n",
      "mpl.style.available\n",
      "mpl.style.use('ggplot') \n",
      "%matplotlib inline  "
     ],
     "language": "python",
     "metadata": {},
     "outputs": [],
     "prompt_number": 7
    },
    {
     "cell_type": "markdown",
     "metadata": {},
     "source": [
      "#High School and Beyond survey\n",
      "\n",
      "#Description\n",
      "Two hundred observations were randomly sampled from the High School and Beyond survey, a survey conducted on high school seniors by the National Center of Education Statistics.\n",
      "\n",
      "#Format\n",
      "A data frame with 200 observations and 11 variables.\n",
      "\n",
      "id: Student ID.\n",
      "\n",
      "gender: Student\u2019s gender, with levels female and male.\n",
      "\n",
      "race: Student\u2019s race, with levels african american, asian, hispanic, and white. ses Socio economic status of student\u2019s family, with levels low, middle, and high. schtyp Type of school, with levels public and private.\n",
      "\n",
      "prog: Type of program, with levels general, academic, and vocational.\n",
      "\n",
      "read: Standardized reading score.\n",
      "\n",
      "write: Standardized writing score.\n",
      "\n",
      "math: Standardized math score.\n",
      "\n",
      "science: Standardized science score.\n",
      "\n",
      "socst: Standardized social studies score.\n"
     ]
    },
    {
     "cell_type": "markdown",
     "metadata": {},
     "source": [
      "Import as a dataframe hsb2.txt"
     ]
    },
    {
     "cell_type": "code",
     "collapsed": false,
     "input": [
      "df=pd.read_table('hsb2.txt')"
     ],
     "language": "python",
     "metadata": {},
     "outputs": [],
     "prompt_number": 8
    },
    {
     "cell_type": "markdown",
     "metadata": {},
     "source": [
      "Explore the data"
     ]
    },
    {
     "cell_type": "code",
     "collapsed": false,
     "input": [
      "df.head()"
     ],
     "language": "python",
     "metadata": {},
     "outputs": [
      {
       "html": [
        "<div style=\"max-height:1000px;max-width:1500px;overflow:auto;\">\n",
        "<table border=\"1\" class=\"dataframe\">\n",
        "  <thead>\n",
        "    <tr style=\"text-align: right;\">\n",
        "      <th></th>\n",
        "      <th>id</th>\n",
        "      <th>gender</th>\n",
        "      <th>race</th>\n",
        "      <th>ses</th>\n",
        "      <th>schtyp</th>\n",
        "      <th>prog</th>\n",
        "      <th>read</th>\n",
        "      <th>write</th>\n",
        "      <th>math</th>\n",
        "      <th>science</th>\n",
        "      <th>socst</th>\n",
        "    </tr>\n",
        "  </thead>\n",
        "  <tbody>\n",
        "    <tr>\n",
        "      <th>0</th>\n",
        "      <td>  70</td>\n",
        "      <td>   male</td>\n",
        "      <td> white</td>\n",
        "      <td>    low</td>\n",
        "      <td> public</td>\n",
        "      <td>    general</td>\n",
        "      <td> 57</td>\n",
        "      <td> 52</td>\n",
        "      <td> 41</td>\n",
        "      <td> 47</td>\n",
        "      <td> 57</td>\n",
        "    </tr>\n",
        "    <tr>\n",
        "      <th>1</th>\n",
        "      <td> 121</td>\n",
        "      <td> female</td>\n",
        "      <td> white</td>\n",
        "      <td> middle</td>\n",
        "      <td> public</td>\n",
        "      <td> vocational</td>\n",
        "      <td> 68</td>\n",
        "      <td> 59</td>\n",
        "      <td> 53</td>\n",
        "      <td> 63</td>\n",
        "      <td> 61</td>\n",
        "    </tr>\n",
        "    <tr>\n",
        "      <th>2</th>\n",
        "      <td>  86</td>\n",
        "      <td>   male</td>\n",
        "      <td> white</td>\n",
        "      <td>   high</td>\n",
        "      <td> public</td>\n",
        "      <td>    general</td>\n",
        "      <td> 44</td>\n",
        "      <td> 33</td>\n",
        "      <td> 54</td>\n",
        "      <td> 58</td>\n",
        "      <td> 31</td>\n",
        "    </tr>\n",
        "    <tr>\n",
        "      <th>3</th>\n",
        "      <td> 141</td>\n",
        "      <td>   male</td>\n",
        "      <td> white</td>\n",
        "      <td>   high</td>\n",
        "      <td> public</td>\n",
        "      <td> vocational</td>\n",
        "      <td> 63</td>\n",
        "      <td> 44</td>\n",
        "      <td> 47</td>\n",
        "      <td> 53</td>\n",
        "      <td> 56</td>\n",
        "    </tr>\n",
        "    <tr>\n",
        "      <th>4</th>\n",
        "      <td> 172</td>\n",
        "      <td>   male</td>\n",
        "      <td> white</td>\n",
        "      <td> middle</td>\n",
        "      <td> public</td>\n",
        "      <td>   academic</td>\n",
        "      <td> 47</td>\n",
        "      <td> 52</td>\n",
        "      <td> 57</td>\n",
        "      <td> 53</td>\n",
        "      <td> 61</td>\n",
        "    </tr>\n",
        "  </tbody>\n",
        "</table>\n",
        "</div>"
       ],
       "metadata": {},
       "output_type": "pyout",
       "prompt_number": 9,
       "text": [
        "    id  gender   race     ses  schtyp        prog  read  write  math  science  \\\n",
        "0   70    male  white     low  public     general    57     52    41       47   \n",
        "1  121  female  white  middle  public  vocational    68     59    53       63   \n",
        "2   86    male  white    high  public     general    44     33    54       58   \n",
        "3  141    male  white    high  public  vocational    63     44    47       53   \n",
        "4  172    male  white  middle  public    academic    47     52    57       53   \n",
        "\n",
        "   socst  \n",
        "0     57  \n",
        "1     61  \n",
        "2     31  \n",
        "3     56  \n",
        "4     61  "
       ]
      }
     ],
     "prompt_number": 9
    },
    {
     "cell_type": "markdown",
     "metadata": {},
     "source": [
      "In order to compare the read and write scores create their respective boxplots. Use .boxplot(column=['varible1','variable2'])"
     ]
    },
    {
     "cell_type": "code",
     "collapsed": false,
     "input": [
      "df.boxplot(column=['read','write'])"
     ],
     "language": "python",
     "metadata": {},
     "outputs": [
      {
       "output_type": "stream",
       "stream": "stderr",
       "text": [
        "//anaconda/lib/python2.7/site-packages/pandas/tools/plotting.py:2380: FutureWarning: \n",
        "The default value for 'return_type' will change to 'axes' in a future release.\n",
        " To use the future behavior now, set return_type='axes'.\n",
        " To keep the previous behavior and silence this warning, set return_type='dict'.\n",
        "  warnings.warn(msg, FutureWarning)\n"
       ]
      },
      {
       "metadata": {},
       "output_type": "pyout",
       "prompt_number": 10,
       "text": [
        "{'boxes': [<matplotlib.lines.Line2D at 0x108e497d0>,\n",
        "  <matplotlib.lines.Line2D at 0x108e7a390>],\n",
        " 'caps': [<matplotlib.lines.Line2D at 0x108e64690>,\n",
        "  <matplotlib.lines.Line2D at 0x108e64cd0>,\n",
        "  <matplotlib.lines.Line2D at 0x108e862d0>,\n",
        "  <matplotlib.lines.Line2D at 0x108e86910>],\n",
        " 'fliers': [<matplotlib.lines.Line2D at 0x108e71990>,\n",
        "  <matplotlib.lines.Line2D at 0x108e925d0>],\n",
        " 'means': [],\n",
        " 'medians': [<matplotlib.lines.Line2D at 0x108e71350>,\n",
        "  <matplotlib.lines.Line2D at 0x108e86f50>],\n",
        " 'whiskers': [<matplotlib.lines.Line2D at 0x108e49510>,\n",
        "  <matplotlib.lines.Line2D at 0x108e64050>,\n",
        "  <matplotlib.lines.Line2D at 0x108e7a610>,\n",
        "  <matplotlib.lines.Line2D at 0x108e7ac50>]}"
       ]
      },
      {
       "metadata": {},
       "output_type": "display_data",
       "png": "[encoded data removed]",
       "text": [
        "<matplotlib.figure.Figure at 0x108c6aed0>"
       ]
      }
     ],
     "prompt_number": 10
    },
    {
     "cell_type": "markdown",
     "metadata": {},
     "source": [
      "Add a new varible to the data frame that represents the differencer between the two scores."
     ]
    },
    {
     "cell_type": "code",
     "collapsed": false,
     "input": [
      "df.diff=df.read-df.write"
     ],
     "language": "python",
     "metadata": {},
     "outputs": [],
     "prompt_number": 11
    },
    {
     "cell_type": "markdown",
     "metadata": {},
     "source": [
      "Produce the histogram of this variable."
     ]
    },
    {
     "cell_type": "code",
     "collapsed": false,
     "input": [
      "df.diff.hist()"
     ],
     "language": "python",
     "metadata": {},
     "outputs": [
      {
       "metadata": {},
       "output_type": "pyout",
       "prompt_number": 12,
       "text": [
        "<matplotlib.axes._subplots.AxesSubplot at 0x108ee8250>"
       ]
      },
      {
       "metadata": {},
       "output_type": "display_data",
       "png": "[encoded data removed]",
       "text": [
        "<matplotlib.figure.Figure at 0x108c72290>"
       ]
      }
     ],
     "prompt_number": 12
    },
    {
     "cell_type": "markdown",
     "metadata": {},
     "source": [
      "Create hypotheses appropriate for the following research question:\n",
      "    is there an evident difference in the average scores of students in the reading and writing exam?"
     ]
    },
    {
     "cell_type": "markdown",
     "metadata": {},
     "source": [
      "$H_0:\\mu_{diff}=0$\n",
      "\n",
      "\n",
      "$H_A:\\mu_{diff}\\neq0$"
     ]
    },
    {
     "cell_type": "markdown",
     "metadata": {},
     "source": [
      "Check the conditions required to complete this test."
     ]
    },
    {
     "cell_type": "markdown",
     "metadata": {},
     "source": [
      "The observations are based on a simple random sample from less than 10\\% of all books sold at the bookstore, so independence is reasonable; there are more than 30 differences; and the distribution of differences is skewed, but this amount of skew is reasonable for this sized data set ($n=73$). "
     ]
    },
    {
     "cell_type": "markdown",
     "metadata": {},
     "source": [
      "Do these data provide convincing evidence of a difference between the average scores on the two exams? Hint: in order to evaluate the p-value use norm.cdf(z)."
     ]
    },
    {
     "cell_type": "code",
     "collapsed": false,
     "input": [
      "mean_diff=df.diff.mean()\n",
      "se_diff=df.diff.std()/sqrt(len(df.diff))\n",
      "z=mean_diff/se_diff\n",
      "p_value=2*norm.cdf(z)\n",
      "p_value"
     ],
     "language": "python",
     "metadata": {},
     "outputs": [
      {
       "metadata": {},
       "output_type": "pyout",
       "prompt_number": 15,
       "text": [
        "0.38577407105426043"
       ]
      }
     ],
     "prompt_number": 15
    },
    {
     "cell_type": "markdown",
     "metadata": {},
     "source": [
      "Since $p_{value}>0.05$ the are no strong evidence to indicate that the is a difference in the average of writing and reading."
     ]
    },
    {
     "cell_type": "markdown",
     "metadata": {},
     "source": [
      "#Comparing means + ANOVA"
     ]
    },
    {
     "cell_type": "markdown",
     "metadata": {},
     "source": [
      "Import as a dataframe chichwts.csv. Use pd.read_csv()"
     ]
    },
    {
     "cell_type": "code",
     "collapsed": false,
     "input": [
      "df1=pd.read_csv('chickwts.csv')"
     ],
     "language": "python",
     "metadata": {},
     "outputs": [],
     "prompt_number": 16
    },
    {
     "cell_type": "markdown",
     "metadata": {},
     "source": [
      "Explore the data"
     ]
    },
    {
     "cell_type": "code",
     "collapsed": false,
     "input": [
      "df1.head()"
     ],
     "language": "python",
     "metadata": {},
     "outputs": [
      {
       "html": [
        "<div style=\"max-height:1000px;max-width:1500px;overflow:auto;\">\n",
        "<table border=\"1\" class=\"dataframe\">\n",
        "  <thead>\n",
        "    <tr style=\"text-align: right;\">\n",
        "      <th></th>\n",
        "      <th>weight</th>\n",
        "      <th>feed</th>\n",
        "    </tr>\n",
        "  </thead>\n",
        "  <tbody>\n",
        "    <tr>\n",
        "      <th>0</th>\n",
        "      <td> 179</td>\n",
        "      <td> horsebean</td>\n",
        "    </tr>\n",
        "    <tr>\n",
        "      <th>1</th>\n",
        "      <td> 160</td>\n",
        "      <td> horsebean</td>\n",
        "    </tr>\n",
        "    <tr>\n",
        "      <th>2</th>\n",
        "      <td> 136</td>\n",
        "      <td> horsebean</td>\n",
        "    </tr>\n",
        "    <tr>\n",
        "      <th>3</th>\n",
        "      <td> 227</td>\n",
        "      <td> horsebean</td>\n",
        "    </tr>\n",
        "    <tr>\n",
        "      <th>4</th>\n",
        "      <td> 217</td>\n",
        "      <td> horsebean</td>\n",
        "    </tr>\n",
        "  </tbody>\n",
        "</table>\n",
        "</div>"
       ],
       "metadata": {},
       "output_type": "pyout",
       "prompt_number": 17,
       "text": [
        "   weight       feed\n",
        "0     179  horsebean\n",
        "1     160  horsebean\n",
        "2     136  horsebean\n",
        "3     227  horsebean\n",
        "4     217  horsebean"
       ]
      }
     ],
     "prompt_number": 17
    },
    {
     "cell_type": "markdown",
     "metadata": {},
     "source": [
      "In order to compare the feed create their respective boxplots. Use .boxplot(by='feed')"
     ]
    },
    {
     "cell_type": "code",
     "collapsed": false,
     "input": [
      "df1.boxplot(by='feed')\n"
     ],
     "language": "python",
     "metadata": {},
     "outputs": [
      {
       "metadata": {},
       "output_type": "pyout",
       "prompt_number": 18,
       "text": [
        "<matplotlib.axes._subplots.AxesSubplot at 0x108f6e950>"
       ]
      },
      {
       "metadata": {},
       "output_type": "display_data",
       "png": "[encoded data removed]",
       "text": [
        "<matplotlib.figure.Figure at 0x108f83110>"
       ]
      }
     ],
     "prompt_number": 18
    },
    {
     "cell_type": "markdown",
     "metadata": {},
     "source": [
      "Do these data provide strong evidence that the average weights of chickens that were fed linseed and horsebean are different? Use a 5% significance level. Remember to check the conditions."
     ]
    },
    {
     "cell_type": "markdown",
     "metadata": {},
     "source": [
      "We first check the size of the samples."
     ]
    },
    {
     "cell_type": "code",
     "collapsed": false,
     "input": [
      "df1.feed.value_counts()"
     ],
     "language": "python",
     "metadata": {},
     "outputs": [
      {
       "metadata": {},
       "output_type": "pyout",
       "prompt_number": 19,
       "text": [
        "soybean      14\n",
        "casein       12\n",
        "linseed      12\n",
        "sunflower    12\n",
        "meatmeal     11\n",
        "horsebean    10\n",
        "dtype: int64"
       ]
      }
     ],
     "prompt_number": 19
    },
    {
     "cell_type": "markdown",
     "metadata": {},
     "source": [
      "Since the size is smaller than 30, we will use the T-distribution."
     ]
    },
    {
     "cell_type": "markdown",
     "metadata": {},
     "source": [
      "The hypothesis to test if the average weigth of chickens fed by linseed and horsebean is different, is\n",
      "\n",
      "$H_0:\\mu_{linseed}-\\mu_{horsebean}=0$\n",
      "\n",
      "\n",
      "$H_A:\\mu_{linseed}-\\mu_{horsebean}\\neq0$"
     ]
    },
    {
     "cell_type": "markdown",
     "metadata": {},
     "source": [
      "After calculations, left to you, the test statistic is $T = 3.02$ with  $df = min(11, 9) = 9$, degrees of freedom."
     ]
    },
    {
     "cell_type": "code",
     "collapsed": false,
     "input": [
      "p_value=2*(1-t.cdf(3.02,9))\n",
      "p_value"
     ],
     "language": "python",
     "metadata": {},
     "outputs": [
      {
       "metadata": {},
       "output_type": "pyout",
       "prompt_number": 20,
       "text": [
        "0.014479315226554768"
       ]
      }
     ],
     "prompt_number": 20
    },
    {
     "cell_type": "markdown",
     "metadata": {},
     "source": [
      "Since p-value<0.05 we reject the null hypothesis. The data provide strong evidence that there is \n",
      "a significant difference between the average weights of chickens that were fed linseed and horsebean."
     ]
    },
    {
     "cell_type": "markdown",
     "metadata": {},
     "source": [
      "Create hypotheses appropriate for the following research question:\n",
      "    Do these data provide convincing evidence that the average weight of chicks varies across some (or all) groups. "
     ]
    },
    {
     "cell_type": "markdown",
     "metadata": {},
     "source": [
      "$H_0:\\mu_{casein}=\\mu_{meatmeal}=\\mu_{sunflower}=\\mu_{linseed}=\\mu_{horsebean}=\\mu_{soybean}$\n",
      "\n",
      "\n",
      "$H_A:$ At least one of the average weight is different."
     ]
    },
    {
     "cell_type": "markdown",
     "metadata": {},
     "source": [
      "Check if the conditions for an ANOVA test are satisfied."
     ]
    },
    {
     "cell_type": "markdown",
     "metadata": {},
     "source": [
      "Given the experiment we can assume independence."
     ]
    },
    {
     "cell_type": "code",
     "collapsed": false,
     "input": [
      "#for ['casein','meatmeal','sunflower','linseed','horsebean','soybean']:\n",
      "stats.probplot(df1.weight[df1.feed=='casein'],plot=pylab)"
     ],
     "language": "python",
     "metadata": {},
     "outputs": [
      {
       "metadata": {},
       "output_type": "pyout",
       "prompt_number": 21,
       "text": [
        "((array([-1.58815464, -1.09814975, -0.78255927, -0.53069113, -0.30892353,\n",
        "         -0.101534  ,  0.101534  ,  0.30892353,  0.53069113,  0.78255927,\n",
        "          1.09814975,  1.58815464]),\n",
        "  array([216, 222, 260, 283, 318, 332, 352, 359, 368, 379, 390, 404])),\n",
        " (67.258855544763037, 323.58333333333331, 0.96781028667216085))"
       ]
      },
      {
       "metadata": {},
       "output_type": "display_data",
       "png": "[encoded data removed]",
       "text": [
        "<matplotlib.figure.Figure at 0x108e92f90>"
       ]
      }
     ],
     "prompt_number": 21
    },
    {
     "cell_type": "code",
     "collapsed": false,
     "input": [
      "stats.probplot(df1.weight[df1.feed=='meatmeal'],plot=pylab)"
     ],
     "language": "python",
     "metadata": {},
     "outputs": [
      {
       "metadata": {},
       "output_type": "pyout",
       "prompt_number": 22,
       "text": [
        "((array([-1.54586084, -1.04486694, -0.7191259 , -0.45648364, -0.2223761 ,\n",
        "          0.        ,  0.2223761 ,  0.45648364,  0.7191259 ,  1.04486694,\n",
        "          1.54586084]),\n",
        "  array([153, 206, 242, 257, 258, 263, 303, 315, 325, 344, 380])),\n",
        " (69.456821919377632, 276.90909090909093, 0.98742113071432502))"
       ]
      },
      {
       "metadata": {},
       "output_type": "display_data",
       "png": "[encoded data removed]",
       "text": [
        "<matplotlib.figure.Figure at 0x109b0dad0>"
       ]
      }
     ],
     "prompt_number": 22
    },
    {
     "cell_type": "markdown",
     "metadata": {},
     "source": [
      "We repeat the probability plot for the rest of the feeds. Given the size of the data, the normality condition seems\n",
      "to be satisfies.\n",
      "\n"
     ]
    },
    {
     "cell_type": "code",
     "collapsed": false,
     "input": [
      "for x in ['casein','meatmeal','sunflower','linseed','horsebean','soybean']:\n",
      "    print df1.weight[df1.feed==x].std()"
     ],
     "language": "python",
     "metadata": {},
     "outputs": [
      {
       "output_type": "stream",
       "stream": "stdout",
       "text": [
        "64.4338396882\n",
        "64.9006233336\n",
        "48.8363842257\n",
        "52.2356983472\n",
        "38.6258405158\n",
        "54.1290683825\n"
       ]
      }
     ],
     "prompt_number": 23
    },
    {
     "cell_type": "markdown",
     "metadata": {},
     "source": [
      "The variance beetween the groups does appear to be constant.  \n",
      "Whether these differences are from natural variation is unclear, so we should report this uncertainty with the final results."
     ]
    },
    {
     "cell_type": "markdown",
     "metadata": {},
     "source": [
      "Run an ANOVA test, by applying the f_oneway(variable_1,...,variable_k). Use a 5% significance level."
     ]
    },
    {
     "cell_type": "code",
     "collapsed": false,
     "input": [
      "f_oneway(df1.weight[df1.feed==\"casein\"],df1.weight[df1.feed==\"meatmeal\"],df1.weight[df1.feed==\"sunflower\"],df1.weight[df1.feed==\"meatmeal\"])"
     ],
     "language": "python",
     "metadata": {},
     "outputs": [
      {
       "metadata": {},
       "output_type": "pyout",
       "prompt_number": 24,
       "text": [
        "(2.5207680260388514, 0.070809792264292057)"
       ]
      }
     ],
     "prompt_number": 24
    },
    {
     "cell_type": "markdown",
     "metadata": {},
     "source": [
      "What is the result of the test?"
     ]
    },
    {
     "cell_type": "code",
     "collapsed": false,
     "input": [
      "There are no stong evidenct to reject the null hypothesis."
     ],
     "language": "python",
     "metadata": {},
     "outputs": []
    }
   ],
   "metadata": {}
  }
 ]
}