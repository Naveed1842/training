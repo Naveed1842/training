{
 "metadata": {
  "name": "",
  "signature": "sha256:8ad84218c67ccb8ca94b90e29d974a8c0a17074391f342bd81673920de8d33d8"
 },
 "nbformat": 3,
 "nbformat_minor": 0,
 "worksheets": [
  {
   "cells": [
    {
     "cell_type": "code",
     "collapsed": false,
     "input": [
      "import pandas as pd\n",
      "import numpy as np\n",
      "import statsmodels.api as sm\n",
      "import matplotlib as mpl\n",
      "import matplotlib.pyplot as plt\n",
      "mpl.style.available\n",
      "mpl.style.use('ggplot') \n",
      "import pylab\n",
      "import scipy.stats as stats\n",
      "\n",
      "%matplotlib inline  "
     ],
     "language": "python",
     "metadata": {},
     "outputs": [],
     "prompt_number": 1
    },
    {
     "cell_type": "markdown",
     "metadata": {},
     "source": [
      "#bdims Body measurements of 507 physically active individuals.\n",
      "\n",
      "**Description**\n",
      "Body girth measurements and skeletal diameter measurements, as well as age, weight, height and gender, are given for 507 physically active individuals - 247 men and 260 women. These data can be used to provide statistics students practice in the art of data analysis. Such analyses range from simple descriptive displays to more complicated multivariate analyses such as multiple regression and discriminant analysis.\n",
      "Usage\n",
      "data(bdims)\n",
      "**Format**\n",
      "A data frame with 507 observations on the following 25 variables.\n",
      "\n",
      "bia.di A numerical vector, respondent\u2019s biacromial diameter in centimeters.\n",
      "\n",
      "bii.di A numerical vector, respondent\u2019s biiliac diameter (pelvic breadth) in centimeters.\n",
      "\n",
      "bit.di A numerical vector, respondent\u2019s bitrochanteric diameter in centimeters.\n",
      "\n",
      "che.de A numerical vector, respondent\u2019s chest depth in centimeters, measured between spine and sternum at nipple level, mid-\n",
      "expiration.\n",
      "\n",
      "che.di A numerical vector, respondent\u2019s chest diameter in centimeters, measured at nipple level, mid-expiration.\n",
      "\n",
      "elb.di A numerical vector, respondent\u2019s elbow diameter in centimeters, measured as sum of two elbows.\n",
      "\n",
      "wri.di A numerical vector, respondent\u2019s wrist diameter in centimeters, measured as sum of two wrists.\n",
      "\n",
      "kne.di A numerical vector, respondent\u2019s knee diameter in centimeters, measured as sum of two knees.\n",
      "\n",
      "ank.di A numerical vector, respondent\u2019s ankle diameter in centimeters, measured as sum of two ankles.\n",
      "\n",
      "sho.gi Anumericalvector,respondent\u2019s shoulder girth in centimeters,measured over deltoid muscles.\n",
      "\n",
      "che.gi A numerical vector, respondent\u2019s chest girth in centimeters, measured at nipple line in males and just above breast \n",
      "tissue in females, mid-expiration.\n",
      "\n",
      "wai.gi Anumericalvector,respondent\u2019s waist girth in centimeters,measured at the narrowest part of torso below the rib cage as average of contracted and relaxed position.\n",
      "\n",
      "nav.gi A numerical vector, respondent\u2019s navel (abdominal) girth in centimeters, measured at umbilicus and iliac crest using iliac crest as a landmark.\n",
      "\n",
      "hip.gi A numerical vector, respondent\u2019s hip girth in centimeters, measured at at level of bitrochanteric diameter.\n",
      "\ufffc\n",
      "thi.gi A numerical vector, respondent\u2019s thigh girth in centimeters, measured below gluteal fold\n",
      "as the average of right and left girths.\n",
      "\n",
      "bic.gi A numerical vector, respondent\u2019s bicep girth in centimeters, measured when flexed as the average of right and left girths.\n",
      "\n",
      "for.gi A numerical vector, respondent\u2019s forearm girth in centimeters, measured when extended, palm up as the average of right and left girths.\n",
      "\n",
      "kne.gi A numerical vector, respondent\u2019s knee diameter in centimeters, measured as sum of two knees.\n",
      "\n",
      "cal.gi A numerical vector, respondent\u2019s calf maximum girth in centimeters, measured as average of right and left girths.\n",
      "\n",
      "ank.gi Anumericalvector,respondent\u2019s ankle minimum girth in centimeters,measured as average of right and left girths.\n",
      "\n",
      "wri.gi Anumericalvector,respondent\u2019s wrist minimum girth in centimeters,measured as average of right and left girths.\n",
      "\n",
      "age A numerical vector, respondent\u2019s age in years.\n",
      "\n",
      "wgt A numerical vector, respondent\u2019s weight in kilograms.\n",
      "\n",
      "hgt A numerical vector, respondent\u2019s height in centimeters.\n",
      "\n",
      "sex A categorical vector, 1 if the respondent is male, 0 if female.\n",
      "Source\n",
      "\n",
      "Heinz G, Peterson LJ, Johnson RW, Kerk CJ. 2003. Exploring Relationships in Body Dimensions. Journal of Statistics Education 11(2).\n"
     ]
    },
    {
     "cell_type": "markdown",
     "metadata": {},
     "source": [
      "Load bdmis.txt on a data frame.\n",
      "Use df=pd.read_table('path')"
     ]
    },
    {
     "cell_type": "code",
     "collapsed": false,
     "input": [
      "df=pd.read_table('bdims.txt')"
     ],
     "language": "python",
     "metadata": {},
     "outputs": [],
     "prompt_number": 2
    },
    {
     "cell_type": "markdown",
     "metadata": {},
     "source": [
      "Explore the data."
     ]
    },
    {
     "cell_type": "code",
     "collapsed": false,
     "input": [
      "df.head()"
     ],
     "language": "python",
     "metadata": {},
     "outputs": [
      {
       "html": [
        "<div style=\"max-height:1000px;max-width:1500px;overflow:auto;\">\n",
        "<table border=\"1\" class=\"dataframe\">\n",
        "  <thead>\n",
        "    <tr style=\"text-align: right;\">\n",
        "      <th></th>\n",
        "      <th>bia.di</th>\n",
        "      <th>bii.di</th>\n",
        "      <th>bit.di</th>\n",
        "      <th>che.de</th>\n",
        "      <th>che.di</th>\n",
        "      <th>elb.di</th>\n",
        "      <th>wri.di</th>\n",
        "      <th>kne.di</th>\n",
        "      <th>ank.di</th>\n",
        "      <th>sho.gi</th>\n",
        "      <th>...</th>\n",
        "      <th>bic.gi</th>\n",
        "      <th>for.gi</th>\n",
        "      <th>kne.gi</th>\n",
        "      <th>cal.gi</th>\n",
        "      <th>ank.gi</th>\n",
        "      <th>wri.gi</th>\n",
        "      <th>age</th>\n",
        "      <th>wgt</th>\n",
        "      <th>hgt</th>\n",
        "      <th>sex</th>\n",
        "    </tr>\n",
        "  </thead>\n",
        "  <tbody>\n",
        "    <tr>\n",
        "      <th>0</th>\n",
        "      <td> 42.9</td>\n",
        "      <td> 26.0</td>\n",
        "      <td> 31.5</td>\n",
        "      <td> 17.7</td>\n",
        "      <td> 28.0</td>\n",
        "      <td> 13.1</td>\n",
        "      <td> 10.4</td>\n",
        "      <td> 18.8</td>\n",
        "      <td> 14.1</td>\n",
        "      <td> 106.2</td>\n",
        "      <td>...</td>\n",
        "      <td> 32.5</td>\n",
        "      <td> 26.0</td>\n",
        "      <td> 34.5</td>\n",
        "      <td> 36.5</td>\n",
        "      <td> 23.5</td>\n",
        "      <td> 16.5</td>\n",
        "      <td> 21</td>\n",
        "      <td> 65.6</td>\n",
        "      <td> 174.0</td>\n",
        "      <td> 1</td>\n",
        "    </tr>\n",
        "    <tr>\n",
        "      <th>1</th>\n",
        "      <td> 43.7</td>\n",
        "      <td> 28.5</td>\n",
        "      <td> 33.5</td>\n",
        "      <td> 16.9</td>\n",
        "      <td> 30.8</td>\n",
        "      <td> 14.0</td>\n",
        "      <td> 11.8</td>\n",
        "      <td> 20.6</td>\n",
        "      <td> 15.1</td>\n",
        "      <td> 110.5</td>\n",
        "      <td>...</td>\n",
        "      <td> 34.4</td>\n",
        "      <td> 28.0</td>\n",
        "      <td> 36.5</td>\n",
        "      <td> 37.5</td>\n",
        "      <td> 24.5</td>\n",
        "      <td> 17.0</td>\n",
        "      <td> 23</td>\n",
        "      <td> 71.8</td>\n",
        "      <td> 175.3</td>\n",
        "      <td> 1</td>\n",
        "    </tr>\n",
        "    <tr>\n",
        "      <th>2</th>\n",
        "      <td> 40.1</td>\n",
        "      <td> 28.2</td>\n",
        "      <td> 33.3</td>\n",
        "      <td> 20.9</td>\n",
        "      <td> 31.7</td>\n",
        "      <td> 13.9</td>\n",
        "      <td> 10.9</td>\n",
        "      <td> 19.7</td>\n",
        "      <td> 14.1</td>\n",
        "      <td> 115.1</td>\n",
        "      <td>...</td>\n",
        "      <td> 33.4</td>\n",
        "      <td> 28.8</td>\n",
        "      <td> 37.0</td>\n",
        "      <td> 37.3</td>\n",
        "      <td> 21.9</td>\n",
        "      <td> 16.9</td>\n",
        "      <td> 28</td>\n",
        "      <td> 80.7</td>\n",
        "      <td> 193.5</td>\n",
        "      <td> 1</td>\n",
        "    </tr>\n",
        "    <tr>\n",
        "      <th>3</th>\n",
        "      <td> 44.3</td>\n",
        "      <td> 29.9</td>\n",
        "      <td> 34.0</td>\n",
        "      <td> 18.4</td>\n",
        "      <td> 28.2</td>\n",
        "      <td> 13.9</td>\n",
        "      <td> 11.2</td>\n",
        "      <td> 20.9</td>\n",
        "      <td> 15.0</td>\n",
        "      <td> 104.5</td>\n",
        "      <td>...</td>\n",
        "      <td> 31.0</td>\n",
        "      <td> 26.2</td>\n",
        "      <td> 37.0</td>\n",
        "      <td> 34.8</td>\n",
        "      <td> 23.0</td>\n",
        "      <td> 16.6</td>\n",
        "      <td> 23</td>\n",
        "      <td> 72.6</td>\n",
        "      <td> 186.5</td>\n",
        "      <td> 1</td>\n",
        "    </tr>\n",
        "    <tr>\n",
        "      <th>4</th>\n",
        "      <td> 42.5</td>\n",
        "      <td> 29.9</td>\n",
        "      <td> 34.0</td>\n",
        "      <td> 21.5</td>\n",
        "      <td> 29.4</td>\n",
        "      <td> 15.2</td>\n",
        "      <td> 11.6</td>\n",
        "      <td> 20.7</td>\n",
        "      <td> 14.9</td>\n",
        "      <td> 107.5</td>\n",
        "      <td>...</td>\n",
        "      <td> 32.0</td>\n",
        "      <td> 28.4</td>\n",
        "      <td> 37.7</td>\n",
        "      <td> 38.6</td>\n",
        "      <td> 24.4</td>\n",
        "      <td> 18.0</td>\n",
        "      <td> 22</td>\n",
        "      <td> 78.8</td>\n",
        "      <td> 187.2</td>\n",
        "      <td> 1</td>\n",
        "    </tr>\n",
        "  </tbody>\n",
        "</table>\n",
        "<p>5 rows \u00d7 25 columns</p>\n",
        "</div>"
       ],
       "metadata": {},
       "output_type": "pyout",
       "prompt_number": 3,
       "text": [
        "   bia.di  bii.di  bit.di  che.de  che.di  elb.di  wri.di  kne.di  ank.di  \\\n",
        "0    42.9    26.0    31.5    17.7    28.0    13.1    10.4    18.8    14.1   \n",
        "1    43.7    28.5    33.5    16.9    30.8    14.0    11.8    20.6    15.1   \n",
        "2    40.1    28.2    33.3    20.9    31.7    13.9    10.9    19.7    14.1   \n",
        "3    44.3    29.9    34.0    18.4    28.2    13.9    11.2    20.9    15.0   \n",
        "4    42.5    29.9    34.0    21.5    29.4    15.2    11.6    20.7    14.9   \n",
        "\n",
        "   sho.gi   ...    bic.gi  for.gi  kne.gi  cal.gi  ank.gi  wri.gi  age   wgt  \\\n",
        "0   106.2   ...      32.5    26.0    34.5    36.5    23.5    16.5   21  65.6   \n",
        "1   110.5   ...      34.4    28.0    36.5    37.5    24.5    17.0   23  71.8   \n",
        "2   115.1   ...      33.4    28.8    37.0    37.3    21.9    16.9   28  80.7   \n",
        "3   104.5   ...      31.0    26.2    37.0    34.8    23.0    16.6   23  72.6   \n",
        "4   107.5   ...      32.0    28.4    37.7    38.6    24.4    18.0   22  78.8   \n",
        "\n",
        "     hgt  sex  \n",
        "0  174.0    1  \n",
        "1  175.3    1  \n",
        "2  193.5    1  \n",
        "3  186.5    1  \n",
        "4  187.2    1  \n",
        "\n",
        "[5 rows x 25 columns]"
       ]
      }
     ],
     "prompt_number": 3
    },
    {
     "cell_type": "markdown",
     "metadata": {},
     "source": [
      "Use .value_counts() to find the number of males and females in the servey. "
     ]
    },
    {
     "cell_type": "code",
     "collapsed": false,
     "input": [
      "df.sex.value_counts()"
     ],
     "language": "python",
     "metadata": {},
     "outputs": [
      {
       "metadata": {},
       "output_type": "pyout",
       "prompt_number": 4,
       "text": [
        "0    260\n",
        "1    247\n",
        "dtype: int64"
       ]
      }
     ],
     "prompt_number": 4
    },
    {
     "cell_type": "markdown",
     "metadata": {},
     "source": [
      "Produce a scatter plot of shoulder girth and height."
     ]
    },
    {
     "cell_type": "code",
     "collapsed": false,
     "input": [
      "plt.scatter(df['sho.gi'],df.hgt)"
     ],
     "language": "python",
     "metadata": {},
     "outputs": [
      {
       "metadata": {},
       "output_type": "pyout",
       "prompt_number": 5,
       "text": [
        "<matplotlib.collections.PathCollection at 0x102999590>"
       ]
      },
      {
       "metadata": {},
       "output_type": "display_data",
       "png": "[encoded data removed]",
       "text": [
        "<matplotlib.figure.Figure at 0x109da6cd0>"
       ]
      }
     ],
     "prompt_number": 5
    },
    {
     "cell_type": "markdown",
     "metadata": {},
     "source": [
      "Desribe the relationship between shoulder girth and height."
     ]
    },
    {
     "cell_type": "markdown",
     "metadata": {},
     "source": [
      "\n",
      "Positively related and linear"
     ]
    },
    {
     "cell_type": "markdown",
     "metadata": {},
     "source": [
      "Fit a line to the data, using the following steps:"
     ]
    },
    {
     "cell_type": "code",
     "collapsed": false,
     "input": [
      "##Set X to be the variable that describes the shoulder girth \n",
      "X=df[['sho.gi']]\n",
      "##Set y to be the variable that describes the height\n",
      "y=df['hgt']\n",
      "##Add a constanct for the intercept\n",
      "X = sm.add_constant(X)\n",
      "\n",
      "## fit a OLS model with intercept on shoulder girth\n",
      "est = sm.OLS(y, X).fit()\n",
      "##Get a summary of the results\n",
      "est.summary()"
     ],
     "language": "python",
     "metadata": {},
     "outputs": [
      {
       "html": [
        "<table class=\"simpletable\">\n",
        "<caption>OLS Regression Results</caption>\n",
        "<tr>\n",
        "  <th>Dep. Variable:</th>           <td>hgt</td>       <th>  R-squared:         </th> <td>   0.443</td>\n",
        "</tr>\n",
        "<tr>\n",
        "  <th>Model:</th>                   <td>OLS</td>       <th>  Adj. R-squared:    </th> <td>   0.442</td>\n",
        "</tr>\n",
        "<tr>\n",
        "  <th>Method:</th>             <td>Least Squares</td>  <th>  F-statistic:       </th> <td>   402.0</td>\n",
        "</tr>\n",
        "<tr>\n",
        "  <th>Date:</th>             <td>Tue, 03 Mar 2015</td> <th>  Prob (F-statistic):</th> <td>3.27e-66</td>\n",
        "</tr>\n",
        "<tr>\n",
        "  <th>Time:</th>                 <td>10:56:22</td>     <th>  Log-Likelihood:    </th> <td> -1706.9</td>\n",
        "</tr>\n",
        "<tr>\n",
        "  <th>No. Observations:</th>      <td>   507</td>      <th>  AIC:               </th> <td>   3418.</td>\n",
        "</tr>\n",
        "<tr>\n",
        "  <th>Df Residuals:</th>          <td>   505</td>      <th>  BIC:               </th> <td>   3426.</td>\n",
        "</tr>\n",
        "<tr>\n",
        "  <th>Df Model:</th>              <td>     1</td>      <th>                     </th>     <td> </td>   \n",
        "</tr>\n",
        "</table>\n",
        "<table class=\"simpletable\">\n",
        "<tr>\n",
        "     <td></td>       <th>coef</th>     <th>std err</th>      <th>t</th>      <th>P>|t|</th> <th>[95.0% Conf. Int.]</th> \n",
        "</tr>\n",
        "<tr>\n",
        "  <th>const</th>  <td>  105.8325</td> <td>    3.272</td> <td>   32.340</td> <td> 0.000</td> <td>   99.403   112.262</td>\n",
        "</tr>\n",
        "<tr>\n",
        "  <th>sho.gi</th> <td>    0.6036</td> <td>    0.030</td> <td>   20.049</td> <td> 0.000</td> <td>    0.544     0.663</td>\n",
        "</tr>\n",
        "</table>\n",
        "<table class=\"simpletable\">\n",
        "<tr>\n",
        "  <th>Omnibus:</th>       <td> 1.278</td> <th>  Durbin-Watson:     </th> <td>   1.914</td>\n",
        "</tr>\n",
        "<tr>\n",
        "  <th>Prob(Omnibus):</th> <td> 0.528</td> <th>  Jarque-Bera (JB):  </th> <td>   1.364</td>\n",
        "</tr>\n",
        "<tr>\n",
        "  <th>Skew:</th>          <td> 0.113</td> <th>  Prob(JB):          </th> <td>   0.506</td>\n",
        "</tr>\n",
        "<tr>\n",
        "  <th>Kurtosis:</th>      <td> 2.883</td> <th>  Cond. No.          </th> <td>1.14e+03</td>\n",
        "</tr>\n",
        "</table>"
       ],
       "metadata": {},
       "output_type": "pyout",
       "prompt_number": 6,
       "text": [
        "<class 'statsmodels.iolib.summary.Summary'>\n",
        "\"\"\"\n",
        "                            OLS Regression Results                            \n",
        "==============================================================================\n",
        "Dep. Variable:                    hgt   R-squared:                       0.443\n",
        "Model:                            OLS   Adj. R-squared:                  0.442\n",
        "Method:                 Least Squares   F-statistic:                     402.0\n",
        "Date:                Tue, 03 Mar 2015   Prob (F-statistic):           3.27e-66\n",
        "Time:                        10:56:22   Log-Likelihood:                -1706.9\n",
        "No. Observations:                 507   AIC:                             3418.\n",
        "Df Residuals:                     505   BIC:                             3426.\n",
        "Df Model:                           1                                         \n",
        "==============================================================================\n",
        "                 coef    std err          t      P>|t|      [95.0% Conf. Int.]\n",
        "------------------------------------------------------------------------------\n",
        "const        105.8325      3.272     32.340      0.000        99.403   112.262\n",
        "sho.gi         0.6036      0.030     20.049      0.000         0.544     0.663\n",
        "==============================================================================\n",
        "Omnibus:                        1.278   Durbin-Watson:                   1.914\n",
        "Prob(Omnibus):                  0.528   Jarque-Bera (JB):                1.364\n",
        "Skew:                           0.113   Prob(JB):                        0.506\n",
        "Kurtosis:                       2.883   Cond. No.                     1.14e+03\n",
        "==============================================================================\n",
        "\n",
        "Warnings:\n",
        "[1] The condition number is large, 1.14e+03. This might indicate that there are\n",
        "strong multicollinearity or other numerical problems.\n",
        "\"\"\""
       ]
      }
     ],
     "prompt_number": 6
    },
    {
     "cell_type": "markdown",
     "metadata": {},
     "source": [
      "Write the equation of the regression line and add it to the scatter plot."
     ]
    },
    {
     "cell_type": "code",
     "collapsed": false,
     "input": [
      "hat_y=105.8325+0.6036*df['sho.gi']"
     ],
     "language": "python",
     "metadata": {},
     "outputs": [],
     "prompt_number": 7
    },
    {
     "cell_type": "markdown",
     "metadata": {},
     "source": [
      "Plot the regression line on top of the scatter plot."
     ]
    },
    {
     "cell_type": "code",
     "collapsed": false,
     "input": [
      "plt.scatter(df['sho.gi'],df['hgt'])\n",
      "plt.plot(df['sho.gi'],hat_y)"
     ],
     "language": "python",
     "metadata": {},
     "outputs": [
      {
       "metadata": {},
       "output_type": "pyout",
       "prompt_number": 8,
       "text": [
        "[<matplotlib.lines.Line2D at 0x1029c4cd0>]"
       ]
      },
      {
       "metadata": {},
       "output_type": "display_data",
       "png": "[encoded data removed]",
       "text": [
        "<matplotlib.figure.Figure at 0x1029c4d50>"
       ]
      }
     ],
     "prompt_number": 8
    },
    {
     "cell_type": "markdown",
     "metadata": {},
     "source": [
      "Does the data satisfy the conditions to fit a line?\n",
      "\n",
      "**Reminder**\n",
      "\n",
      "*Conditions*\n",
      "1. Linearity\n",
      "2. Nearly normal residuals\n",
      "3. Constant variability"
     ]
    },
    {
     "cell_type": "markdown",
     "metadata": {},
     "source": [
      "The two variables do seem to have a linear relationship, see scatterplot."
     ]
    },
    {
     "cell_type": "markdown",
     "metadata": {},
     "source": [
      "In order to check the next conditions, we evaluate the residuals and produce their plot."
     ]
    },
    {
     "cell_type": "code",
     "collapsed": false,
     "input": [
      "residuals=y-hat_y\n",
      "plt.plot(residuals,'o')"
     ],
     "language": "python",
     "metadata": {},
     "outputs": [
      {
       "metadata": {},
       "output_type": "pyout",
       "prompt_number": 17,
       "text": [
        "[<matplotlib.lines.Line2D at 0x10a62ff90>]"
       ]
      },
      {
       "metadata": {},
       "output_type": "display_data",
       "png": "[encoded data removed]",
       "text": [
        "<matplotlib.figure.Figure at 0x10a427110>"
       ]
      }
     ],
     "prompt_number": 17
    },
    {
     "cell_type": "code",
     "collapsed": false,
     "input": [
      "plt.hist(residuals)"
     ],
     "language": "python",
     "metadata": {},
     "outputs": [
      {
       "metadata": {},
       "output_type": "pyout",
       "prompt_number": 20,
       "text": [
        "(array([   7.,   16.,   52.,   98.,  111.,   99.,   71.,   38.,    9.,    6.]),\n",
        " array([-19.22967889, -15.19692222, -11.16416555,  -7.13140888,\n",
        "         -3.09865221,   0.93410445,   4.96686112,   8.99961779,\n",
        "         13.03237446,  17.06513113,  21.09788779]),\n",
        " <a list of 10 Patch objects>)"
       ]
      },
      {
       "metadata": {},
       "output_type": "display_data",
       "png": "[encoded data removed]",
       "text": [
        "<matplotlib.figure.Figure at 0x10a659710>"
       ]
      }
     ],
     "prompt_number": 20
    },
    {
     "cell_type": "markdown",
     "metadata": {},
     "source": [
      "From the previous plots, the residuals seem to normaliy distributed and have a constant variability."
     ]
    },
    {
     "cell_type": "markdown",
     "metadata": {},
     "source": [
      "Interpret the slope and the intercept in this context"
     ]
    },
    {
     "cell_type": "markdown",
     "metadata": {},
     "source": [
      "For each additional centimeter in sholder girth, the model predicts the average height to be 0.6 additional centimeters.\n",
      "\n",
      "Intercept: People with 0 centimeters sholder girth are expected be 105.8325cm tall. This is obviously not possible. Here, the y-intercept serves only to adjust the height of the line and is meaningless by itself. "
     ]
    },
    {
     "cell_type": "markdown",
     "metadata": {},
     "source": [
      "Interpret  R-square."
     ]
    },
    {
     "cell_type": "markdown",
     "metadata": {},
     "source": [
      "$R^2=0.443.$ Approximately 44% of the variability in height can be explained by the sholder girth of individuals."
     ]
    },
    {
     "cell_type": "markdown",
     "metadata": {},
     "source": [
      "A randomly selected student from your class has a shoulder girth of 100cm. Predict the height of this student using the model."
     ]
    },
    {
     "cell_type": "markdown",
     "metadata": {},
     "source": [
      "The expected height of the student is $\\hat{y}=105.8325+0.6036*100=166.1925cm$"
     ]
    },
    {
     "cell_type": "markdown",
     "metadata": {},
     "source": [
      "The student's height is 160cm. Calculate the residual and explain what this residual means."
     ]
    },
    {
     "cell_type": "markdown",
     "metadata": {},
     "source": [
      "The student is 6.1925cm shorter than what was predicted by the regression model."
     ]
    },
    {
     "cell_type": "markdown",
     "metadata": {},
     "source": [
      "A one year has a shoulder girth of 56cm. Would it be appropriate to use this linear model to predict the height of this child?"
     ]
    },
    {
     "cell_type": "markdown",
     "metadata": {},
     "source": [
      "No it would not. (a). 56cm is out of the range of shoulder girth that we consider in the  model and (b) the data is only collected\n",
      "for adults."
     ]
    },
    {
     "cell_type": "heading",
     "level": 6,
     "metadata": {},
     "source": [
      "Weight and height."
     ]
    },
    {
     "cell_type": "markdown",
     "metadata": {},
     "source": [
      "Produce a scatter plot of height and weight."
     ]
    },
    {
     "cell_type": "code",
     "collapsed": false,
     "input": [
      "plt.scatter(df.hgt,df.wgt)"
     ],
     "language": "python",
     "metadata": {},
     "outputs": [
      {
       "metadata": {},
       "output_type": "pyout",
       "prompt_number": 10,
       "text": [
        "<matplotlib.collections.PathCollection at 0x10a39ec50>"
       ]
      },
      {
       "metadata": {},
       "output_type": "display_data",
       "png": "[encoded data removed]",
       "text": [
        "<matplotlib.figure.Figure at 0x10a24c950>"
       ]
      }
     ],
     "prompt_number": 10
    },
    {
     "cell_type": "markdown",
     "metadata": {},
     "source": [
      "Desribe the relationship between height and weight."
     ]
    },
    {
     "cell_type": "markdown",
     "metadata": {},
     "source": [
      "Positive and linear."
     ]
    },
    {
     "cell_type": "markdown",
     "metadata": {},
     "source": [
      "Fit a line to the data, using the same steps as in the previous example."
     ]
    },
    {
     "cell_type": "code",
     "collapsed": false,
     "input": [
      "## fit a OLS model with intercept on height\n",
      "X=df.hgt\n",
      "y=df.wgt\n",
      "X = sm.add_constant(X)\n",
      "est = sm.OLS(y, X).fit()\n",
      "\n",
      "est.summary()"
     ],
     "language": "python",
     "metadata": {},
     "outputs": [
      {
       "html": [
        "<table class=\"simpletable\">\n",
        "<caption>OLS Regression Results</caption>\n",
        "<tr>\n",
        "  <th>Dep. Variable:</th>           <td>wgt</td>       <th>  R-squared:         </th> <td>   0.515</td>\n",
        "</tr>\n",
        "<tr>\n",
        "  <th>Model:</th>                   <td>OLS</td>       <th>  Adj. R-squared:    </th> <td>   0.514</td>\n",
        "</tr>\n",
        "<tr>\n",
        "  <th>Method:</th>             <td>Least Squares</td>  <th>  F-statistic:       </th> <td>   535.2</td>\n",
        "</tr>\n",
        "<tr>\n",
        "  <th>Date:</th>             <td>Tue, 03 Mar 2015</td> <th>  Prob (F-statistic):</th> <td>2.83e-81</td>\n",
        "</tr>\n",
        "<tr>\n",
        "  <th>Time:</th>                 <td>11:18:25</td>     <th>  Log-Likelihood:    </th> <td> -1849.5</td>\n",
        "</tr>\n",
        "<tr>\n",
        "  <th>No. Observations:</th>      <td>   507</td>      <th>  AIC:               </th> <td>   3703.</td>\n",
        "</tr>\n",
        "<tr>\n",
        "  <th>Df Residuals:</th>          <td>   505</td>      <th>  BIC:               </th> <td>   3711.</td>\n",
        "</tr>\n",
        "<tr>\n",
        "  <th>Df Model:</th>              <td>     1</td>      <th>                     </th>     <td> </td>   \n",
        "</tr>\n",
        "</table>\n",
        "<table class=\"simpletable\">\n",
        "<tr>\n",
        "    <td></td>       <th>coef</th>     <th>std err</th>      <th>t</th>      <th>P>|t|</th> <th>[95.0% Conf. Int.]</th> \n",
        "</tr>\n",
        "<tr>\n",
        "  <th>const</th> <td> -105.0113</td> <td>    7.539</td> <td>  -13.928</td> <td> 0.000</td> <td> -119.824   -90.199</td>\n",
        "</tr>\n",
        "<tr>\n",
        "  <th>hgt</th>   <td>    1.0176</td> <td>    0.044</td> <td>   23.135</td> <td> 0.000</td> <td>    0.931     1.104</td>\n",
        "</tr>\n",
        "</table>\n",
        "<table class=\"simpletable\">\n",
        "<tr>\n",
        "  <th>Omnibus:</th>       <td>63.269</td> <th>  Durbin-Watson:     </th> <td>   1.894</td>\n",
        "</tr>\n",
        "<tr>\n",
        "  <th>Prob(Omnibus):</th> <td> 0.000</td> <th>  Jarque-Bera (JB):  </th> <td>  93.738</td>\n",
        "</tr>\n",
        "<tr>\n",
        "  <th>Skew:</th>          <td> 0.840</td> <th>  Prob(JB):          </th> <td>4.42e-21</td>\n",
        "</tr>\n",
        "<tr>\n",
        "  <th>Kurtosis:</th>      <td> 4.270</td> <th>  Cond. No.          </th> <td>3.13e+03</td>\n",
        "</tr>\n",
        "</table>"
       ],
       "metadata": {},
       "output_type": "pyout",
       "prompt_number": 11,
       "text": [
        "<class 'statsmodels.iolib.summary.Summary'>\n",
        "\"\"\"\n",
        "                            OLS Regression Results                            \n",
        "==============================================================================\n",
        "Dep. Variable:                    wgt   R-squared:                       0.515\n",
        "Model:                            OLS   Adj. R-squared:                  0.514\n",
        "Method:                 Least Squares   F-statistic:                     535.2\n",
        "Date:                Tue, 03 Mar 2015   Prob (F-statistic):           2.83e-81\n",
        "Time:                        11:18:25   Log-Likelihood:                -1849.5\n",
        "No. Observations:                 507   AIC:                             3703.\n",
        "Df Residuals:                     505   BIC:                             3711.\n",
        "Df Model:                           1                                         \n",
        "==============================================================================\n",
        "                 coef    std err          t      P>|t|      [95.0% Conf. Int.]\n",
        "------------------------------------------------------------------------------\n",
        "const       -105.0113      7.539    -13.928      0.000      -119.824   -90.199\n",
        "hgt            1.0176      0.044     23.135      0.000         0.931     1.104\n",
        "==============================================================================\n",
        "Omnibus:                       63.269   Durbin-Watson:                   1.894\n",
        "Prob(Omnibus):                  0.000   Jarque-Bera (JB):               93.738\n",
        "Skew:                           0.840   Prob(JB):                     4.42e-21\n",
        "Kurtosis:                       4.270   Cond. No.                     3.13e+03\n",
        "==============================================================================\n",
        "\n",
        "Warnings:\n",
        "[1] The condition number is large, 3.13e+03. This might indicate that there are\n",
        "strong multicollinearity or other numerical problems.\n",
        "\"\"\""
       ]
      }
     ],
     "prompt_number": 11
    },
    {
     "cell_type": "markdown",
     "metadata": {},
     "source": [
      "Write the equation of the regression line and add it to the scatter plot."
     ]
    },
    {
     "cell_type": "code",
     "collapsed": false,
     "input": [
      "hat_y1=-105.0113+1.0176*df.hgt"
     ],
     "language": "python",
     "metadata": {},
     "outputs": [],
     "prompt_number": 12
    },
    {
     "cell_type": "markdown",
     "metadata": {},
     "source": [
      "Plot the regression line on top of the scatter plot."
     ]
    },
    {
     "cell_type": "code",
     "collapsed": false,
     "input": [
      "plt.scatter(df['hgt'],df['wgt'])\n",
      "plt.plot(df['hgt'],hat_y1)"
     ],
     "language": "python",
     "metadata": {},
     "outputs": [
      {
       "metadata": {},
       "output_type": "pyout",
       "prompt_number": 13,
       "text": [
        "[<matplotlib.lines.Line2D at 0x1029dc1d0>]"
       ]
      },
      {
       "metadata": {},
       "output_type": "display_data",
       "png": "[encoded data removed]",
       "text": [
        "<matplotlib.figure.Figure at 0x10a136550>"
       ]
      }
     ],
     "prompt_number": 13
    },
    {
     "cell_type": "markdown",
     "metadata": {},
     "source": [
      "Interpret the slope and the intercept in this context"
     ]
    },
    {
     "cell_type": "markdown",
     "metadata": {},
     "source": [
      "For each additional centimeter in height, the model predicts the average weight to be 1.0176 additional kilograms.\n",
      "\n",
      "Intercept: People who are 0 centimeters tall are expected to weigh -105.0113 kilograms. This is obviously not possible. Here, the y-intercept serves only to adjust the height of the line and is meaningless by itself. "
     ]
    },
    {
     "cell_type": "markdown",
     "metadata": {},
     "source": [
      "Interpret  R-square."
     ]
    },
    {
     "cell_type": "markdown",
     "metadata": {},
     "source": [
      "$R^2= 0.52.$ Approximately 52% of the variability in weight can be explained by the height of individuals.\n"
     ]
    },
    {
     "cell_type": "markdown",
     "metadata": {},
     "source": [
      "Do the data provide strong evidence that an increase in height is associated with an increase in weight? State the null\n",
      "and alternative hypothesis, report the p-value, and state your conclusion."
     ]
    },
    {
     "cell_type": "markdown",
     "metadata": {},
     "source": [
      "$H_0:$ The true slope coefficient of height is zero ($\\beta_0=0). \n",
      "    \n",
      "$H_A:$ The true slope coefficient of height is greater than zero ($\\beta_0>0$). \n",
      "\n",
      "A two-sided test would also be acceptable for this application. \n",
      "The p-value for the two-sided alternative hypothesis ($\\beta_0\\neq 0$) is zero,\n",
      "so the p-value for the one-sided hypothesis is also zero. That is, we reject $H_0$. \n",
      "The data provide convincing evidence that height and weight are positively correlated. The true slope parameter is indeed greater than 0."
     ]
    },
    {
     "cell_type": "markdown",
     "metadata": {},
     "source": [
      "**Note**\n",
      "\n",
      "There exist different python libraries for liner regression. \n",
      "\n",
      "For instance, this is an alternative way to estimate the regression line and the rest of the parameters, similar to R."
     ]
    },
    {
     "cell_type": "code",
     "collapsed": false,
     "input": [
      "import statsmodels.formula.api as smf\n",
      "\n",
      "# formula: response ~ predictor + predictor\n",
      "est = smf.ols(formula='wgt~ hgt ', data=df).fit()\n"
     ],
     "language": "python",
     "metadata": {},
     "outputs": [],
     "prompt_number": 14
    },
    {
     "cell_type": "code",
     "collapsed": false,
     "input": [
      "est.summary()"
     ],
     "language": "python",
     "metadata": {},
     "outputs": [
      {
       "html": [
        "<table class=\"simpletable\">\n",
        "<caption>OLS Regression Results</caption>\n",
        "<tr>\n",
        "  <th>Dep. Variable:</th>           <td>wgt</td>       <th>  R-squared:         </th> <td>   0.515</td>\n",
        "</tr>\n",
        "<tr>\n",
        "  <th>Model:</th>                   <td>OLS</td>       <th>  Adj. R-squared:    </th> <td>   0.514</td>\n",
        "</tr>\n",
        "<tr>\n",
        "  <th>Method:</th>             <td>Least Squares</td>  <th>  F-statistic:       </th> <td>   535.2</td>\n",
        "</tr>\n",
        "<tr>\n",
        "  <th>Date:</th>             <td>Tue, 03 Mar 2015</td> <th>  Prob (F-statistic):</th> <td>2.83e-81</td>\n",
        "</tr>\n",
        "<tr>\n",
        "  <th>Time:</th>                 <td>11:23:51</td>     <th>  Log-Likelihood:    </th> <td> -1849.5</td>\n",
        "</tr>\n",
        "<tr>\n",
        "  <th>No. Observations:</th>      <td>   507</td>      <th>  AIC:               </th> <td>   3703.</td>\n",
        "</tr>\n",
        "<tr>\n",
        "  <th>Df Residuals:</th>          <td>   505</td>      <th>  BIC:               </th> <td>   3711.</td>\n",
        "</tr>\n",
        "<tr>\n",
        "  <th>Df Model:</th>              <td>     1</td>      <th>                     </th>     <td> </td>   \n",
        "</tr>\n",
        "</table>\n",
        "<table class=\"simpletable\">\n",
        "<tr>\n",
        "      <td></td>         <th>coef</th>     <th>std err</th>      <th>t</th>      <th>P>|t|</th> <th>[95.0% Conf. Int.]</th> \n",
        "</tr>\n",
        "<tr>\n",
        "  <th>Intercept</th> <td> -105.0113</td> <td>    7.539</td> <td>  -13.928</td> <td> 0.000</td> <td> -119.824   -90.199</td>\n",
        "</tr>\n",
        "<tr>\n",
        "  <th>hgt</th>       <td>    1.0176</td> <td>    0.044</td> <td>   23.135</td> <td> 0.000</td> <td>    0.931     1.104</td>\n",
        "</tr>\n",
        "</table>\n",
        "<table class=\"simpletable\">\n",
        "<tr>\n",
        "  <th>Omnibus:</th>       <td>63.269</td> <th>  Durbin-Watson:     </th> <td>   1.894</td>\n",
        "</tr>\n",
        "<tr>\n",
        "  <th>Prob(Omnibus):</th> <td> 0.000</td> <th>  Jarque-Bera (JB):  </th> <td>  93.738</td>\n",
        "</tr>\n",
        "<tr>\n",
        "  <th>Skew:</th>          <td> 0.840</td> <th>  Prob(JB):          </th> <td>4.42e-21</td>\n",
        "</tr>\n",
        "<tr>\n",
        "  <th>Kurtosis:</th>      <td> 4.270</td> <th>  Cond. No.          </th> <td>3.13e+03</td>\n",
        "</tr>\n",
        "</table>"
       ],
       "metadata": {},
       "output_type": "pyout",
       "prompt_number": 15,
       "text": [
        "<class 'statsmodels.iolib.summary.Summary'>\n",
        "\"\"\"\n",
        "                            OLS Regression Results                            \n",
        "==============================================================================\n",
        "Dep. Variable:                    wgt   R-squared:                       0.515\n",
        "Model:                            OLS   Adj. R-squared:                  0.514\n",
        "Method:                 Least Squares   F-statistic:                     535.2\n",
        "Date:                Tue, 03 Mar 2015   Prob (F-statistic):           2.83e-81\n",
        "Time:                        11:23:51   Log-Likelihood:                -1849.5\n",
        "No. Observations:                 507   AIC:                             3703.\n",
        "Df Residuals:                     505   BIC:                             3711.\n",
        "Df Model:                           1                                         \n",
        "==============================================================================\n",
        "                 coef    std err          t      P>|t|      [95.0% Conf. Int.]\n",
        "------------------------------------------------------------------------------\n",
        "Intercept   -105.0113      7.539    -13.928      0.000      -119.824   -90.199\n",
        "hgt            1.0176      0.044     23.135      0.000         0.931     1.104\n",
        "==============================================================================\n",
        "Omnibus:                       63.269   Durbin-Watson:                   1.894\n",
        "Prob(Omnibus):                  0.000   Jarque-Bera (JB):               93.738\n",
        "Skew:                           0.840   Prob(JB):                     4.42e-21\n",
        "Kurtosis:                       4.270   Cond. No.                     3.13e+03\n",
        "==============================================================================\n",
        "\n",
        "Warnings:\n",
        "[1] The condition number is large, 3.13e+03. This might indicate that there are\n",
        "strong multicollinearity or other numerical problems.\n",
        "\"\"\""
       ]
      }
     ],
     "prompt_number": 15
    },
    {
     "cell_type": "markdown",
     "metadata": {},
     "source": [
      "Where we can retrive the different parameters. For instance execute the following command."
     ]
    },
    {
     "cell_type": "code",
     "collapsed": false,
     "input": [
      "est.pvalues"
     ],
     "language": "python",
     "metadata": {},
     "outputs": [
      {
       "metadata": {},
       "output_type": "pyout",
       "prompt_number": 16,
       "text": [
        "Intercept    1.503592e-37\n",
        "hgt          2.829100e-81\n",
        "dtype: float64"
       ]
      }
     ],
     "prompt_number": 16
    },
    {
     "cell_type": "markdown",
     "metadata": {},
     "source": [
      "In the case we want a subset of the results, we can always costumase the results.\n",
      "\n",
      "As an example run the following code."
     ]
    },
    {
     "cell_type": "code",
     "collapsed": false,
     "input": [
      "# a utility function to only show the coeff section of summary\n",
      "from IPython.core.display import HTML\n",
      "def short_summary(est):\n",
      "    return HTML(est.summary().tables[1].as_html())\n",
      "\n",
      "short_summary(est)"
     ],
     "language": "python",
     "metadata": {},
     "outputs": [
      {
       "html": [
        "<table class=\"simpletable\">\n",
        "<tr>\n",
        "      <td></td>         <th>coef</th>     <th>std err</th>      <th>t</th>      <th>P>|t|</th> <th>[95.0% Conf. Int.]</th> \n",
        "</tr>\n",
        "<tr>\n",
        "  <th>Intercept</th> <td> -105.0113</td> <td>    7.539</td> <td>  -13.928</td> <td> 0.000</td> <td> -119.824   -90.199</td>\n",
        "</tr>\n",
        "<tr>\n",
        "  <th>hgt</th>       <td>    1.0176</td> <td>    0.044</td> <td>   23.135</td> <td> 0.000</td> <td>    0.931     1.104</td>\n",
        "</tr>\n",
        "</table>"
       ],
       "metadata": {},
       "output_type": "pyout",
       "prompt_number": 17,
       "text": [
        "<IPython.core.display.HTML at 0x10a50e2d0>"
       ]
      }
     ],
     "prompt_number": 17
    },
    {
     "cell_type": "code",
     "collapsed": false,
     "input": [],
     "language": "python",
     "metadata": {},
     "outputs": [],
     "prompt_number": 17
    },
    {
     "cell_type": "code",
     "collapsed": false,
     "input": [],
     "language": "python",
     "metadata": {},
     "outputs": []
    }
   ],
   "metadata": {}
  }
 ]
}