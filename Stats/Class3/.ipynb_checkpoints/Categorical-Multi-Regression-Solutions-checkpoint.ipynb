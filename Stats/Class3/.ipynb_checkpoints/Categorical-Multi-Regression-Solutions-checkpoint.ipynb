{
 "metadata": {
  "name": "",
  "signature": "sha256:1e9d018a029c62cf28c2380653261a78059f3a901fd69894cc3f0b0eca6ad294"
 },
 "nbformat": 3,
 "nbformat_minor": 0,
 "worksheets": [
  {
   "cells": [
    {
     "cell_type": "code",
     "collapsed": false,
     "input": [
      "import numpy as np\n",
      "from numpy import nan as NA\n",
      "import pandas as pd\n",
      "import matplotlib as mpl\n",
      "import matplotlib.pyplot as plt\n",
      "from scipy.stats import norm\n",
      "from pylab import *\n",
      "import random\n",
      "mpl.style.available\n",
      "mpl.style.use('ggplot') \n",
      "import pylab\n",
      "import scipy.stats as stats\n",
      "\n",
      "%matplotlib inline  \n"
     ],
     "language": "python",
     "metadata": {},
     "outputs": [],
     "prompt_number": 115
    },
    {
     "cell_type": "markdown",
     "metadata": {},
     "source": [
      "##Description\n",
      "Auction data from Ebay for the game Mario Kart for the Nintendo Wii. This data was collected in early October, 2009.\n",
      "##Format\n",
      "A data frame with 143 observations on the following 12 variables. All prices are in US dollars.\n",
      "\n",
      "ID Auction: ID assigned by Ebay. \n",
      "\n",
      "duration: Auction length, in days.\n",
      "\n",
      "nBids: Number of bids.\n",
      "\n",
      "cond: Game condition, either new or used. \n",
      "\n",
      "startPr: Start price of the auction. \n",
      "\n",
      "shipPr: Shipping price.\n",
      "\n",
      "totalPr: Total price, which equals the auction price plus the shipping price.\n",
      "\n",
      "\n",
      "shipSp: Shipping speed or method.\n",
      "\n",
      "sellerRate: The seller\u2019s rating on Ebay. This is the number of positive ratings minus the number of negative ratings for the seller.\n",
      "\n",
      "stockPhoto: Whether the auction feature photo was a stock photo or not. If the picture was used in many auctions, then it was called a stock photo.\n",
      "\n",
      "wheels: Number of Wii wheels included in the auction. These are steering wheel attachments to make it seem as though you are actually driving in the game. When used with the controller, turning the wheel actually causes the character on screen to turn.\n",
      "\n",
      "\n",
      "title: The title of the auctions."
     ]
    },
    {
     "cell_type": "markdown",
     "metadata": {},
     "source": [
      "Load marioKart.txt on a data frame. Use df=pd.read_table('path')"
     ]
    },
    {
     "cell_type": "code",
     "collapsed": false,
     "input": [
      "df=pd.read_table('marioKart.txt')"
     ],
     "language": "python",
     "metadata": {},
     "outputs": [],
     "prompt_number": 85
    },
    {
     "cell_type": "markdown",
     "metadata": {},
     "source": [
      "Explore the data. Use statistic summaries and graphs."
     ]
    },
    {
     "cell_type": "code",
     "collapsed": false,
     "input": [
      "df.head()"
     ],
     "language": "python",
     "metadata": {},
     "outputs": [
      {
       "html": [
        "<div style=\"max-height:1000px;max-width:1500px;overflow:auto;\">\n",
        "<table border=\"1\" class=\"dataframe\">\n",
        "  <thead>\n",
        "    <tr style=\"text-align: right;\">\n",
        "      <th></th>\n",
        "      <th>ID</th>\n",
        "      <th>duration</th>\n",
        "      <th>nBids</th>\n",
        "      <th>cond</th>\n",
        "      <th>startPr</th>\n",
        "      <th>shipPr</th>\n",
        "      <th>totalPr</th>\n",
        "      <th>shipSp</th>\n",
        "      <th>sellerRate</th>\n",
        "      <th>stockPhoto</th>\n",
        "      <th>wheels</th>\n",
        "      <th>title</th>\n",
        "    </tr>\n",
        "  </thead>\n",
        "  <tbody>\n",
        "    <tr>\n",
        "      <th>0</th>\n",
        "      <td> 150377422259</td>\n",
        "      <td> 3</td>\n",
        "      <td> 20</td>\n",
        "      <td>  new</td>\n",
        "      <td> 0.99</td>\n",
        "      <td> 4.00</td>\n",
        "      <td> 51.55</td>\n",
        "      <td>   standard</td>\n",
        "      <td> 1580</td>\n",
        "      <td> yes</td>\n",
        "      <td> 1</td>\n",
        "      <td> ~~ Wii MARIO KART &amp;amp; WHEEL ~ NINTENDO Wii ~...</td>\n",
        "    </tr>\n",
        "    <tr>\n",
        "      <th>1</th>\n",
        "      <td> 260483376854</td>\n",
        "      <td> 7</td>\n",
        "      <td> 13</td>\n",
        "      <td> used</td>\n",
        "      <td> 0.99</td>\n",
        "      <td> 3.99</td>\n",
        "      <td> 37.04</td>\n",
        "      <td> firstClass</td>\n",
        "      <td>  365</td>\n",
        "      <td> yes</td>\n",
        "      <td> 1</td>\n",
        "      <td> Mariokart Wii Nintendo with wheel - Mario Kart...</td>\n",
        "    </tr>\n",
        "    <tr>\n",
        "      <th>2</th>\n",
        "      <td> 320432342985</td>\n",
        "      <td> 3</td>\n",
        "      <td> 16</td>\n",
        "      <td>  new</td>\n",
        "      <td> 0.99</td>\n",
        "      <td> 3.50</td>\n",
        "      <td> 45.50</td>\n",
        "      <td> firstClass</td>\n",
        "      <td>  998</td>\n",
        "      <td>  no</td>\n",
        "      <td> 1</td>\n",
        "      <td>                              Mario Kart Wii (Wii)</td>\n",
        "    </tr>\n",
        "    <tr>\n",
        "      <th>3</th>\n",
        "      <td> 280405224677</td>\n",
        "      <td> 3</td>\n",
        "      <td> 18</td>\n",
        "      <td>  new</td>\n",
        "      <td> 0.99</td>\n",
        "      <td> 0.00</td>\n",
        "      <td> 44.00</td>\n",
        "      <td>   standard</td>\n",
        "      <td>    7</td>\n",
        "      <td> yes</td>\n",
        "      <td> 1</td>\n",
        "      <td> Brand New Mario Kart Wii Comes with Wheel. Fre...</td>\n",
        "    </tr>\n",
        "    <tr>\n",
        "      <th>4</th>\n",
        "      <td> 170392227765</td>\n",
        "      <td> 1</td>\n",
        "      <td> 20</td>\n",
        "      <td>  new</td>\n",
        "      <td> 0.01</td>\n",
        "      <td> 0.00</td>\n",
        "      <td> 71.00</td>\n",
        "      <td>      media</td>\n",
        "      <td>  820</td>\n",
        "      <td> yes</td>\n",
        "      <td> 2</td>\n",
        "      <td> BRAND NEW NINTENDO 1 WII MARIO KART WITH 2 WHE...</td>\n",
        "    </tr>\n",
        "  </tbody>\n",
        "</table>\n",
        "</div>"
       ],
       "metadata": {},
       "output_type": "pyout",
       "prompt_number": 86,
       "text": [
        "             ID  duration  nBids  cond  startPr  shipPr  totalPr      shipSp  \\\n",
        "0  150377422259         3     20   new     0.99    4.00    51.55    standard   \n",
        "1  260483376854         7     13  used     0.99    3.99    37.04  firstClass   \n",
        "2  320432342985         3     16   new     0.99    3.50    45.50  firstClass   \n",
        "3  280405224677         3     18   new     0.99    0.00    44.00    standard   \n",
        "4  170392227765         1     20   new     0.01    0.00    71.00       media   \n",
        "\n",
        "   sellerRate stockPhoto  wheels  \\\n",
        "0        1580        yes       1   \n",
        "1         365        yes       1   \n",
        "2         998         no       1   \n",
        "3           7        yes       1   \n",
        "4         820        yes       2   \n",
        "\n",
        "                                               title  \n",
        "0  ~~ Wii MARIO KART &amp; WHEEL ~ NINTENDO Wii ~...  \n",
        "1  Mariokart Wii Nintendo with wheel - Mario Kart...  \n",
        "2                               Mario Kart Wii (Wii)  \n",
        "3  Brand New Mario Kart Wii Comes with Wheel. Fre...  \n",
        "4  BRAND NEW NINTENDO 1 WII MARIO KART WITH 2 WHE...  "
       ]
      }
     ],
     "prompt_number": 86
    },
    {
     "cell_type": "code",
     "collapsed": false,
     "input": [
      "df.dtypes"
     ],
     "language": "python",
     "metadata": {},
     "outputs": [
      {
       "metadata": {},
       "output_type": "pyout",
       "prompt_number": 87,
       "text": [
        "ID              int64\n",
        "duration        int64\n",
        "nBids           int64\n",
        "cond           object\n",
        "startPr       float64\n",
        "shipPr        float64\n",
        "totalPr       float64\n",
        "shipSp         object\n",
        "sellerRate      int64\n",
        "stockPhoto     object\n",
        "wheels          int64\n",
        "title          object\n",
        "dtype: object"
       ]
      }
     ],
     "prompt_number": 87
    },
    {
     "cell_type": "code",
     "collapsed": false,
     "input": [
      "df. describe()"
     ],
     "language": "python",
     "metadata": {},
     "outputs": [
      {
       "html": [
        "<div style=\"max-height:1000px;max-width:1500px;overflow:auto;\">\n",
        "<table border=\"1\" class=\"dataframe\">\n",
        "  <thead>\n",
        "    <tr style=\"text-align: right;\">\n",
        "      <th></th>\n",
        "      <th>ID</th>\n",
        "      <th>duration</th>\n",
        "      <th>nBids</th>\n",
        "      <th>startPr</th>\n",
        "      <th>shipPr</th>\n",
        "      <th>totalPr</th>\n",
        "      <th>sellerRate</th>\n",
        "      <th>wheels</th>\n",
        "    </tr>\n",
        "  </thead>\n",
        "  <tbody>\n",
        "    <tr>\n",
        "      <th>count</th>\n",
        "      <td> 1.430000e+02</td>\n",
        "      <td> 143.000000</td>\n",
        "      <td> 143.000000</td>\n",
        "      <td> 143.000000</td>\n",
        "      <td> 143.000000</td>\n",
        "      <td> 143.00000</td>\n",
        "      <td>    143.000000</td>\n",
        "      <td> 143.000000</td>\n",
        "    </tr>\n",
        "    <tr>\n",
        "      <th>mean</th>\n",
        "      <td> 2.235290e+11</td>\n",
        "      <td>   3.769231</td>\n",
        "      <td>  13.538462</td>\n",
        "      <td>   8.777203</td>\n",
        "      <td>   3.143706</td>\n",
        "      <td>  49.88049</td>\n",
        "      <td>  15898.419580</td>\n",
        "      <td>   1.146853</td>\n",
        "    </tr>\n",
        "    <tr>\n",
        "      <th>std</th>\n",
        "      <td> 8.809543e+10</td>\n",
        "      <td>   2.585693</td>\n",
        "      <td>   5.878786</td>\n",
        "      <td>  15.067451</td>\n",
        "      <td>   3.213179</td>\n",
        "      <td>  25.68856</td>\n",
        "      <td>  51840.317975</td>\n",
        "      <td>   0.847183</td>\n",
        "    </tr>\n",
        "    <tr>\n",
        "      <th>min</th>\n",
        "      <td> 1.104392e+11</td>\n",
        "      <td>   1.000000</td>\n",
        "      <td>   1.000000</td>\n",
        "      <td>   0.010000</td>\n",
        "      <td>   0.000000</td>\n",
        "      <td>  28.98000</td>\n",
        "      <td>      0.000000</td>\n",
        "      <td>   0.000000</td>\n",
        "    </tr>\n",
        "    <tr>\n",
        "      <th>25%</th>\n",
        "      <td> 1.403506e+11</td>\n",
        "      <td>   1.000000</td>\n",
        "      <td>  10.000000</td>\n",
        "      <td>   0.990000</td>\n",
        "      <td>   0.000000</td>\n",
        "      <td>  41.17500</td>\n",
        "      <td>    109.000000</td>\n",
        "      <td>   0.000000</td>\n",
        "    </tr>\n",
        "    <tr>\n",
        "      <th>50%</th>\n",
        "      <td> 2.204911e+11</td>\n",
        "      <td>   3.000000</td>\n",
        "      <td>  14.000000</td>\n",
        "      <td>   1.000000</td>\n",
        "      <td>   3.000000</td>\n",
        "      <td>  46.50000</td>\n",
        "      <td>    820.000000</td>\n",
        "      <td>   1.000000</td>\n",
        "    </tr>\n",
        "    <tr>\n",
        "      <th>75%</th>\n",
        "      <td> 2.953551e+11</td>\n",
        "      <td>   7.000000</td>\n",
        "      <td>  17.000000</td>\n",
        "      <td>  10.000000</td>\n",
        "      <td>   4.000000</td>\n",
        "      <td>  53.99000</td>\n",
        "      <td>   4858.000000</td>\n",
        "      <td>   2.000000</td>\n",
        "    </tr>\n",
        "    <tr>\n",
        "      <th>max</th>\n",
        "      <td> 4.000775e+11</td>\n",
        "      <td>  10.000000</td>\n",
        "      <td>  29.000000</td>\n",
        "      <td>  69.950000</td>\n",
        "      <td>  25.510000</td>\n",
        "      <td> 326.51000</td>\n",
        "      <td> 270144.000000</td>\n",
        "      <td>   4.000000</td>\n",
        "    </tr>\n",
        "  </tbody>\n",
        "</table>\n",
        "</div>"
       ],
       "metadata": {},
       "output_type": "pyout",
       "prompt_number": 88,
       "text": [
        "                 ID    duration       nBids     startPr      shipPr  \\\n",
        "count  1.430000e+02  143.000000  143.000000  143.000000  143.000000   \n",
        "mean   2.235290e+11    3.769231   13.538462    8.777203    3.143706   \n",
        "std    8.809543e+10    2.585693    5.878786   15.067451    3.213179   \n",
        "min    1.104392e+11    1.000000    1.000000    0.010000    0.000000   \n",
        "25%    1.403506e+11    1.000000   10.000000    0.990000    0.000000   \n",
        "50%    2.204911e+11    3.000000   14.000000    1.000000    3.000000   \n",
        "75%    2.953551e+11    7.000000   17.000000   10.000000    4.000000   \n",
        "max    4.000775e+11   10.000000   29.000000   69.950000   25.510000   \n",
        "\n",
        "         totalPr     sellerRate      wheels  \n",
        "count  143.00000     143.000000  143.000000  \n",
        "mean    49.88049   15898.419580    1.146853  \n",
        "std     25.68856   51840.317975    0.847183  \n",
        "min     28.98000       0.000000    0.000000  \n",
        "25%     41.17500     109.000000    0.000000  \n",
        "50%     46.50000     820.000000    1.000000  \n",
        "75%     53.99000    4858.000000    2.000000  \n",
        "max    326.51000  270144.000000    4.000000  "
       ]
      }
     ],
     "prompt_number": 88
    },
    {
     "cell_type": "code",
     "collapsed": false,
     "input": [
      "pd.scatter_matrix(df,figsize=(10,10))"
     ],
     "language": "python",
     "metadata": {},
     "outputs": [
      {
       "metadata": {},
       "output_type": "pyout",
       "prompt_number": 89,
       "text": [
        "array([[<matplotlib.axes._subplots.AxesSubplot object at 0x10bf19dd0>,\n",
        "        <matplotlib.axes._subplots.AxesSubplot object at 0x10bf60dd0>,\n",
        "        <matplotlib.axes._subplots.AxesSubplot object at 0x10c805a90>,\n",
        "        <matplotlib.axes._subplots.AxesSubplot object at 0x10c868f90>,\n",
        "        <matplotlib.axes._subplots.AxesSubplot object at 0x10c8f6290>,\n",
        "        <matplotlib.axes._subplots.AxesSubplot object at 0x10c8a2410>,\n",
        "        <matplotlib.axes._subplots.AxesSubplot object at 0x10c9dac90>,\n",
        "        <matplotlib.axes._subplots.AxesSubplot object at 0x10ca5df50>],\n",
        "       [<matplotlib.axes._subplots.AxesSubplot object at 0x10cac0f50>,\n",
        "        <matplotlib.axes._subplots.AxesSubplot object at 0x10cb51250>,\n",
        "        <matplotlib.axes._subplots.AxesSubplot object at 0x10c993550>,\n",
        "        <matplotlib.axes._subplots.AxesSubplot object at 0x10cc29b10>,\n",
        "        <matplotlib.axes._subplots.AxesSubplot object at 0x10ccad8d0>,\n",
        "        <matplotlib.axes._subplots.AxesSubplot object at 0x10ccefe50>,\n",
        "        <matplotlib.axes._subplots.AxesSubplot object at 0x10cd69b10>,\n",
        "        <matplotlib.axes._subplots.AxesSubplot object at 0x10cdc9710>],\n",
        "       [<matplotlib.axes._subplots.AxesSubplot object at 0x10ce4b650>,\n",
        "        <matplotlib.axes._subplots.AxesSubplot object at 0x10ced1310>,\n",
        "        <matplotlib.axes._subplots.AxesSubplot object at 0x10cf400d0>,\n",
        "        <matplotlib.axes._subplots.AxesSubplot object at 0x10cfc30d0>,\n",
        "        <matplotlib.axes._subplots.AxesSubplot object at 0x10d11be50>,\n",
        "        <matplotlib.axes._subplots.AxesSubplot object at 0x10d19ef10>,\n",
        "        <matplotlib.axes._subplots.AxesSubplot object at 0x10d149e10>,\n",
        "        <matplotlib.axes._subplots.AxesSubplot object at 0x10d291810>],\n",
        "       [<matplotlib.axes._subplots.AxesSubplot object at 0x10d416810>,\n",
        "        <matplotlib.axes._subplots.AxesSubplot object at 0x10d477e50>,\n",
        "        <matplotlib.axes._subplots.AxesSubplot object at 0x10d4fbc10>,\n",
        "        <matplotlib.axes._subplots.AxesSubplot object at 0x10d561710>,\n",
        "        <matplotlib.axes._subplots.AxesSubplot object at 0x10d5e3650>,\n",
        "        <matplotlib.axes._subplots.AxesSubplot object at 0x10d667310>,\n",
        "        <matplotlib.axes._subplots.AxesSubplot object at 0x10d6d61d0>,\n",
        "        <matplotlib.axes._subplots.AxesSubplot object at 0x10d74de50>],\n",
        "       [<matplotlib.axes._subplots.AxesSubplot object at 0x10d7b2d50>,\n",
        "        <matplotlib.axes._subplots.AxesSubplot object at 0x10e136b10>,\n",
        "        <matplotlib.axes._subplots.AxesSubplot object at 0x10d7d7990>,\n",
        "        <matplotlib.axes._subplots.AxesSubplot object at 0x10e327810>,\n",
        "        <matplotlib.axes._subplots.AxesSubplot object at 0x10e3ac4d0>,\n",
        "        <matplotlib.axes._subplots.AxesSubplot object at 0x10e40eb90>,\n",
        "        <matplotlib.axes._subplots.AxesSubplot object at 0x10e493950>,\n",
        "        <matplotlib.axes._subplots.AxesSubplot object at 0x10cfefc50>],\n",
        "       [<matplotlib.axes._subplots.AxesSubplot object at 0x10e55ae10>,\n",
        "        <matplotlib.axes._subplots.AxesSubplot object at 0x10e5dfad0>,\n",
        "        <matplotlib.axes._subplots.AxesSubplot object at 0x10e64e1d0>,\n",
        "        <matplotlib.axes._subplots.AxesSubplot object at 0x10e6c4f50>,\n",
        "        <matplotlib.axes._subplots.AxesSubplot object at 0x10e720c10>,\n",
        "        <matplotlib.axes._subplots.AxesSubplot object at 0x10e7adc10>,\n",
        "        <matplotlib.axes._subplots.AxesSubplot object at 0x10ea308d0>,\n",
        "        <matplotlib.axes._subplots.AxesSubplot object at 0x10eaa06d0>],\n",
        "       [<matplotlib.axes._subplots.AxesSubplot object at 0x10ec23390>,\n",
        "        <matplotlib.axes._subplots.AxesSubplot object at 0x10ec89290>,\n",
        "        <matplotlib.axes._subplots.AxesSubplot object at 0x10ed0e050>,\n",
        "        <matplotlib.axes._subplots.AxesSubplot object at 0x10eca0490>,\n",
        "        <matplotlib.axes._subplots.AxesSubplot object at 0x10edf2d10>,\n",
        "        <matplotlib.axes._subplots.AxesSubplot object at 0x10ee759d0>,\n",
        "        <matplotlib.axes._subplots.AxesSubplot object at 0x10eee50d0>,\n",
        "        <matplotlib.axes._subplots.AxesSubplot object at 0x10ef5be50>],\n",
        "       [<matplotlib.axes._subplots.AxesSubplot object at 0x10efb6b10>,\n",
        "        <matplotlib.axes._subplots.AxesSubplot object at 0x10f144b10>,\n",
        "        <matplotlib.axes._subplots.AxesSubplot object at 0x10f1c87d0>,\n",
        "        <matplotlib.axes._subplots.AxesSubplot object at 0x10f2385d0>,\n",
        "        <matplotlib.axes._subplots.AxesSubplot object at 0x10f2bb290>,\n",
        "        <matplotlib.axes._subplots.AxesSubplot object at 0x10f320190>,\n",
        "        <matplotlib.axes._subplots.AxesSubplot object at 0x10f396f10>,\n",
        "        <matplotlib.axes._subplots.AxesSubplot object at 0x10f339450>]], dtype=object)"
       ]
      },
      {
       "metadata": {},
       "output_type": "display_data",
       "png": "[encoded data removed]",
       "text": [
        "<matplotlib.figure.Figure at 0x10bee4dd0>"
       ]
      }
     ],
     "prompt_number": 89
    },
    {
     "cell_type": "markdown",
     "metadata": {},
     "source": [
      "Add an extra column to the dataframe. Name it cond_num.\n",
      "Use a for/if loop to change variable **cond_num** from new,used to 1,0 respectively."
     ]
    },
    {
     "cell_type": "code",
     "collapsed": false,
     "input": [
      "df['cond_num']=df['cond'].map(lambda x: 1 if x=='new' else 0)"
     ],
     "language": "python",
     "metadata": {},
     "outputs": [],
     "prompt_number": 90
    },
    {
     "cell_type": "markdown",
     "metadata": {},
     "source": [
      "Check the first lines of the data base."
     ]
    },
    {
     "cell_type": "code",
     "collapsed": false,
     "input": [
      "df.head()"
     ],
     "language": "python",
     "metadata": {},
     "outputs": [
      {
       "html": [
        "<div style=\"max-height:1000px;max-width:1500px;overflow:auto;\">\n",
        "<table border=\"1\" class=\"dataframe\">\n",
        "  <thead>\n",
        "    <tr style=\"text-align: right;\">\n",
        "      <th></th>\n",
        "      <th>ID</th>\n",
        "      <th>duration</th>\n",
        "      <th>nBids</th>\n",
        "      <th>cond</th>\n",
        "      <th>startPr</th>\n",
        "      <th>shipPr</th>\n",
        "      <th>totalPr</th>\n",
        "      <th>shipSp</th>\n",
        "      <th>sellerRate</th>\n",
        "      <th>stockPhoto</th>\n",
        "      <th>wheels</th>\n",
        "      <th>title</th>\n",
        "      <th>cond_num</th>\n",
        "    </tr>\n",
        "  </thead>\n",
        "  <tbody>\n",
        "    <tr>\n",
        "      <th>0</th>\n",
        "      <td> 150377422259</td>\n",
        "      <td> 3</td>\n",
        "      <td> 20</td>\n",
        "      <td>  new</td>\n",
        "      <td> 0.99</td>\n",
        "      <td> 4.00</td>\n",
        "      <td> 51.55</td>\n",
        "      <td>   standard</td>\n",
        "      <td> 1580</td>\n",
        "      <td> yes</td>\n",
        "      <td> 1</td>\n",
        "      <td> ~~ Wii MARIO KART &amp;amp; WHEEL ~ NINTENDO Wii ~...</td>\n",
        "      <td> 1</td>\n",
        "    </tr>\n",
        "    <tr>\n",
        "      <th>1</th>\n",
        "      <td> 260483376854</td>\n",
        "      <td> 7</td>\n",
        "      <td> 13</td>\n",
        "      <td> used</td>\n",
        "      <td> 0.99</td>\n",
        "      <td> 3.99</td>\n",
        "      <td> 37.04</td>\n",
        "      <td> firstClass</td>\n",
        "      <td>  365</td>\n",
        "      <td> yes</td>\n",
        "      <td> 1</td>\n",
        "      <td> Mariokart Wii Nintendo with wheel - Mario Kart...</td>\n",
        "      <td> 0</td>\n",
        "    </tr>\n",
        "    <tr>\n",
        "      <th>2</th>\n",
        "      <td> 320432342985</td>\n",
        "      <td> 3</td>\n",
        "      <td> 16</td>\n",
        "      <td>  new</td>\n",
        "      <td> 0.99</td>\n",
        "      <td> 3.50</td>\n",
        "      <td> 45.50</td>\n",
        "      <td> firstClass</td>\n",
        "      <td>  998</td>\n",
        "      <td>  no</td>\n",
        "      <td> 1</td>\n",
        "      <td>                              Mario Kart Wii (Wii)</td>\n",
        "      <td> 1</td>\n",
        "    </tr>\n",
        "    <tr>\n",
        "      <th>3</th>\n",
        "      <td> 280405224677</td>\n",
        "      <td> 3</td>\n",
        "      <td> 18</td>\n",
        "      <td>  new</td>\n",
        "      <td> 0.99</td>\n",
        "      <td> 0.00</td>\n",
        "      <td> 44.00</td>\n",
        "      <td>   standard</td>\n",
        "      <td>    7</td>\n",
        "      <td> yes</td>\n",
        "      <td> 1</td>\n",
        "      <td> Brand New Mario Kart Wii Comes with Wheel. Fre...</td>\n",
        "      <td> 1</td>\n",
        "    </tr>\n",
        "    <tr>\n",
        "      <th>4</th>\n",
        "      <td> 170392227765</td>\n",
        "      <td> 1</td>\n",
        "      <td> 20</td>\n",
        "      <td>  new</td>\n",
        "      <td> 0.01</td>\n",
        "      <td> 0.00</td>\n",
        "      <td> 71.00</td>\n",
        "      <td>      media</td>\n",
        "      <td>  820</td>\n",
        "      <td> yes</td>\n",
        "      <td> 2</td>\n",
        "      <td> BRAND NEW NINTENDO 1 WII MARIO KART WITH 2 WHE...</td>\n",
        "      <td> 1</td>\n",
        "    </tr>\n",
        "  </tbody>\n",
        "</table>\n",
        "</div>"
       ],
       "metadata": {},
       "output_type": "pyout",
       "prompt_number": 91,
       "text": [
        "             ID  duration  nBids  cond  startPr  shipPr  totalPr      shipSp  \\\n",
        "0  150377422259         3     20   new     0.99    4.00    51.55    standard   \n",
        "1  260483376854         7     13  used     0.99    3.99    37.04  firstClass   \n",
        "2  320432342985         3     16   new     0.99    3.50    45.50  firstClass   \n",
        "3  280405224677         3     18   new     0.99    0.00    44.00    standard   \n",
        "4  170392227765         1     20   new     0.01    0.00    71.00       media   \n",
        "\n",
        "   sellerRate stockPhoto  wheels  \\\n",
        "0        1580        yes       1   \n",
        "1         365        yes       1   \n",
        "2         998         no       1   \n",
        "3           7        yes       1   \n",
        "4         820        yes       2   \n",
        "\n",
        "                                               title  cond_num  \n",
        "0  ~~ Wii MARIO KART &amp; WHEEL ~ NINTENDO Wii ~...         1  \n",
        "1  Mariokart Wii Nintendo with wheel - Mario Kart...         0  \n",
        "2                               Mario Kart Wii (Wii)         1  \n",
        "3  Brand New Mario Kart Wii Comes with Wheel. Fre...         1  \n",
        "4  BRAND NEW NINTENDO 1 WII MARIO KART WITH 2 WHE...         1  "
       ]
      }
     ],
     "prompt_number": 91
    },
    {
     "cell_type": "markdown",
     "metadata": {},
     "source": [
      "Produce a scatter plot for the variables cond_num and totalPr"
     ]
    },
    {
     "cell_type": "code",
     "collapsed": false,
     "input": [
      "plt.scatter(df.cond_num,df.totalPr)"
     ],
     "language": "python",
     "metadata": {},
     "outputs": [
      {
       "metadata": {},
       "output_type": "pyout",
       "prompt_number": 92,
       "text": [
        "<matplotlib.collections.PathCollection at 0x10f54aa10>"
       ]
      },
      {
       "metadata": {},
       "output_type": "display_data",
       "png": "[encoded data removed]",
       "text": [
        "<matplotlib.figure.Figure at 0x10f6af410>"
       ]
      }
     ],
     "prompt_number": 92
    },
    {
     "cell_type": "markdown",
     "metadata": {},
     "source": [
      "Fit a line to the data, using the following steps:"
     ]
    },
    {
     "cell_type": "code",
     "collapsed": false,
     "input": [
      "##Set X to be the variable that describes the condition of the game\n",
      "X=df.cond_num\n",
      " \n",
      "##Set y to be the variable that describes the total price\n",
      "y=df.totalPr\n",
      "##Add a constanct for the intercept\n",
      "X = sm.add_constant(X)\n",
      " \n",
      "## fit a OLS model with intercept on shoulder girth\n",
      "est = sm.OLS(y, X).fit()\n",
      "##Get the estimated parameters of the regression line\n",
      "est.params"
     ],
     "language": "python",
     "metadata": {},
     "outputs": [
      {
       "metadata": {},
       "output_type": "pyout",
       "prompt_number": 93,
       "text": [
        "const       47.148095\n",
        "cond_num     6.622583\n",
        "dtype: float64"
       ]
      }
     ],
     "prompt_number": 93
    },
    {
     "cell_type": "markdown",
     "metadata": {},
     "source": [
      "Write the equation of the regression line and add it to the scatter plot."
     ]
    },
    {
     "cell_type": "code",
     "collapsed": false,
     "input": [
      "hat_y=est.params[0]+est.params[1]*df.cond_num\n",
      "plt.scatter(df.cond_num,df.totalPr)\n",
      "plt.plot(df.cond_num,hat_y)"
     ],
     "language": "python",
     "metadata": {},
     "outputs": [
      {
       "metadata": {},
       "output_type": "pyout",
       "prompt_number": 94,
       "text": [
        "[<matplotlib.lines.Line2D at 0x10d659290>]"
       ]
      },
      {
       "metadata": {},
       "output_type": "display_data",
       "png": "[encoded data removed]",
       "text": [
        "<matplotlib.figure.Figure at 0x10bf9ac90>"
       ]
      }
     ],
     "prompt_number": 94
    },
    {
     "cell_type": "markdown",
     "metadata": {},
     "source": [
      "Evaluate and plot the residuals."
     ]
    },
    {
     "cell_type": "code",
     "collapsed": false,
     "input": [
      "residuals=est.resid\n",
      "plt.plot(residuals,'o')"
     ],
     "language": "python",
     "metadata": {},
     "outputs": [
      {
       "metadata": {},
       "output_type": "pyout",
       "prompt_number": 95,
       "text": [
        "[<matplotlib.lines.Line2D at 0x11213e410>]"
       ]
      },
      {
       "metadata": {},
       "output_type": "display_data",
       "png": "[encoded data removed]",
       "text": [
        "<matplotlib.figure.Figure at 0x10f169550>"
       ]
      }
     ],
     "prompt_number": 95
    },
    {
     "cell_type": "markdown",
     "metadata": {},
     "source": [
      "Check for probable outliers in the graph.\n",
      "\n",
      "If there exist are they influencial?"
     ]
    },
    {
     "cell_type": "markdown",
     "metadata": {},
     "source": [
      "There are two residuals that could influence our regression model."
     ]
    },
    {
     "cell_type": "markdown",
     "metadata": {},
     "source": [
      "Check the values of the outliers.\n",
      "\n",
      "Should we exclude them from the data?"
     ]
    },
    {
     "cell_type": "code",
     "collapsed": false,
     "input": [
      "outliers=residuals[residuals>50]\n",
      "outliers.index"
     ],
     "language": "python",
     "metadata": {},
     "outputs": [
      {
       "metadata": {},
       "output_type": "pyout",
       "prompt_number": 96,
       "text": [
        "Int64Index([19, 64], dtype='int64')"
       ]
      }
     ],
     "prompt_number": 96
    },
    {
     "cell_type": "code",
     "collapsed": false,
     "input": [
      "df[df.index==19] "
     ],
     "language": "python",
     "metadata": {},
     "outputs": [
      {
       "html": [
        "<div style=\"max-height:1000px;max-width:1500px;overflow:auto;\">\n",
        "<table border=\"1\" class=\"dataframe\">\n",
        "  <thead>\n",
        "    <tr style=\"text-align: right;\">\n",
        "      <th></th>\n",
        "      <th>ID</th>\n",
        "      <th>duration</th>\n",
        "      <th>nBids</th>\n",
        "      <th>cond</th>\n",
        "      <th>startPr</th>\n",
        "      <th>shipPr</th>\n",
        "      <th>totalPr</th>\n",
        "      <th>shipSp</th>\n",
        "      <th>sellerRate</th>\n",
        "      <th>stockPhoto</th>\n",
        "      <th>wheels</th>\n",
        "      <th>title</th>\n",
        "      <th>cond_num</th>\n",
        "    </tr>\n",
        "  </thead>\n",
        "  <tbody>\n",
        "    <tr>\n",
        "      <th>19</th>\n",
        "      <td> 110439174663</td>\n",
        "      <td> 7</td>\n",
        "      <td> 22</td>\n",
        "      <td> used</td>\n",
        "      <td> 1</td>\n",
        "      <td> 25.51</td>\n",
        "      <td> 326.51</td>\n",
        "      <td> parcel</td>\n",
        "      <td> 115</td>\n",
        "      <td> no</td>\n",
        "      <td> 2</td>\n",
        "      <td> Nintedo Wii Console Bundle Guitar Hero 5 Mario...</td>\n",
        "      <td> 0</td>\n",
        "    </tr>\n",
        "  </tbody>\n",
        "</table>\n",
        "</div>"
       ],
       "metadata": {},
       "output_type": "pyout",
       "prompt_number": 97,
       "text": [
        "              ID  duration  nBids  cond  startPr  shipPr  totalPr  shipSp  \\\n",
        "19  110439174663         7     22  used        1   25.51   326.51  parcel   \n",
        "\n",
        "    sellerRate stockPhoto  wheels  \\\n",
        "19         115         no       2   \n",
        "\n",
        "                                                title  cond_num  \n",
        "19  Nintedo Wii Console Bundle Guitar Hero 5 Mario...         0  "
       ]
      }
     ],
     "prompt_number": 97
    },
    {
     "cell_type": "code",
     "collapsed": false,
     "input": [
      "df[df.index==64]"
     ],
     "language": "python",
     "metadata": {},
     "outputs": [
      {
       "html": [
        "<div style=\"max-height:1000px;max-width:1500px;overflow:auto;\">\n",
        "<table border=\"1\" class=\"dataframe\">\n",
        "  <thead>\n",
        "    <tr style=\"text-align: right;\">\n",
        "      <th></th>\n",
        "      <th>ID</th>\n",
        "      <th>duration</th>\n",
        "      <th>nBids</th>\n",
        "      <th>cond</th>\n",
        "      <th>startPr</th>\n",
        "      <th>shipPr</th>\n",
        "      <th>totalPr</th>\n",
        "      <th>shipSp</th>\n",
        "      <th>sellerRate</th>\n",
        "      <th>stockPhoto</th>\n",
        "      <th>wheels</th>\n",
        "      <th>title</th>\n",
        "      <th>cond_num</th>\n",
        "    </tr>\n",
        "  </thead>\n",
        "  <tbody>\n",
        "    <tr>\n",
        "      <th>64</th>\n",
        "      <td> 130335427560</td>\n",
        "      <td> 3</td>\n",
        "      <td> 27</td>\n",
        "      <td> used</td>\n",
        "      <td> 6.95</td>\n",
        "      <td> 4</td>\n",
        "      <td> 118.5</td>\n",
        "      <td> parcel</td>\n",
        "      <td> 41</td>\n",
        "      <td> no</td>\n",
        "      <td> 0</td>\n",
        "      <td> 10 Nintendo Wii Games - MarioKart Wii, SpiderM...</td>\n",
        "      <td> 0</td>\n",
        "    </tr>\n",
        "  </tbody>\n",
        "</table>\n",
        "</div>"
       ],
       "metadata": {},
       "output_type": "pyout",
       "prompt_number": 98,
       "text": [
        "              ID  duration  nBids  cond  startPr  shipPr  totalPr  shipSp  \\\n",
        "64  130335427560         3     27  used     6.95       4    118.5  parcel   \n",
        "\n",
        "    sellerRate stockPhoto  wheels  \\\n",
        "64          41         no       0   \n",
        "\n",
        "                                                title  cond_num  \n",
        "64  10 Nintendo Wii Games - MarioKart Wii, SpiderM...         0  "
       ]
      }
     ],
     "prompt_number": 98
    },
    {
     "cell_type": "markdown",
     "metadata": {},
     "source": [
      "In the title column, we can see that this sells are for a bandle of games and not for an individual MarioKart,\n",
      "so we can remove them from our data."
     ]
    },
    {
     "cell_type": "markdown",
     "metadata": {},
     "source": [
      "Create a new dataframe by excluding the outliers."
     ]
    },
    {
     "cell_type": "code",
     "collapsed": false,
     "input": [
      "df1=df[df.totalPr<100]\n"
     ],
     "language": "python",
     "metadata": {},
     "outputs": [],
     "prompt_number": 99
    },
    {
     "cell_type": "markdown",
     "metadata": {},
     "source": [
      "Fit a line to the data, using the following steps:"
     ]
    },
    {
     "cell_type": "code",
     "collapsed": false,
     "input": [
      "##Set X to be the variable that describes the condition of the game\n",
      "X=df1.cond_num\n",
      "##Set y to be the variable that describes the total price\n",
      "y=df1.totalPr\n",
      "##Add a constanct for the intercept\n",
      "X = sm.add_constant(X)\n",
      " \n",
      "## fit a OLS model with intercept on shoulder girth\n",
      "est = sm.OLS(y, X).fit()\n",
      "##Get the estimated parameters of the regression line\n",
      "est.params"
     ],
     "language": "python",
     "metadata": {},
     "outputs": [
      {
       "metadata": {},
       "output_type": "pyout",
       "prompt_number": 100,
       "text": [
        "const       42.871098\n",
        "cond_num    10.899580\n",
        "dtype: float64"
       ]
      }
     ],
     "prompt_number": 100
    },
    {
     "cell_type": "markdown",
     "metadata": {},
     "source": [
      "Write the equation of the regression line and add it to the scatter plot."
     ]
    },
    {
     "cell_type": "code",
     "collapsed": false,
     "input": [
      "hat_y=42.871098+10.899580*df1.cond_num"
     ],
     "language": "python",
     "metadata": {},
     "outputs": [],
     "prompt_number": 101
    },
    {
     "cell_type": "markdown",
     "metadata": {},
     "source": [
      "Does the data satisfy the conditions to fit a line?\n",
      "\n",
      "**Reminder**\n",
      "\n",
      "*Conditions*\n",
      "1. Linearity \n",
      "2. Nearly normal residuals\n",
      "3. Constant variability"
     ]
    },
    {
     "cell_type": "markdown",
     "metadata": {},
     "source": [
      "For the residuals, we have the following plots:"
     ]
    },
    {
     "cell_type": "code",
     "collapsed": false,
     "input": [
      "plt.hist(est.resid)"
     ],
     "language": "python",
     "metadata": {},
     "outputs": [
      {
       "metadata": {},
       "output_type": "pyout",
       "prompt_number": 102,
       "text": [
        "(array([  9.,  22.,  18.,  31.,  25.,  17.,  10.,   4.,   1.,   4.]),\n",
        " array([-13.89109756, -10.28709756,  -6.68309756,  -3.07909756,\n",
        "          0.52490244,   4.12890244,   7.73290244,  11.33690244,\n",
        "         14.94090244,  18.54490244,  22.14890244]),\n",
        " <a list of 10 Patch objects>)"
       ]
      },
      {
       "metadata": {},
       "output_type": "display_data",
       "png": "[encoded data removed]",
       "text": [
        "<matplotlib.figure.Figure at 0x10d659250>"
       ]
      }
     ],
     "prompt_number": 102
    },
    {
     "cell_type": "code",
     "collapsed": false,
     "input": [
      "plt.plot(est.resid,'o')"
     ],
     "language": "python",
     "metadata": {},
     "outputs": [
      {
       "metadata": {},
       "output_type": "pyout",
       "prompt_number": 103,
       "text": [
        "[<matplotlib.lines.Line2D at 0x11244f6d0>]"
       ]
      },
      {
       "metadata": {},
       "output_type": "display_data",
       "png": "[encoded data removed]",
       "text": [
        "<matplotlib.figure.Figure at 0x112356c10>"
       ]
      }
     ],
     "prompt_number": 103
    },
    {
     "cell_type": "markdown",
     "metadata": {},
     "source": [
      "The residuals seem to be approximately normal, although there is a bit of a right skew. Plus there appears to be a constant variability."
     ]
    },
    {
     "cell_type": "markdown",
     "metadata": {},
     "source": [
      "##Note of caution\n",
      "Evaluate the parameters using the following statistical function"
     ]
    },
    {
     "cell_type": "code",
     "collapsed": false,
     "input": [
      "import statsmodels.formula.api as smf\n",
      "\n",
      "# formula: response ~ predictor + predictor\n",
      "# function C() transforms categorical variables to dummy variables\n",
      "est = smf.ols(formula='totalPr~ C(cond) ', data=df1).fit()\n",
      "est.params"
     ],
     "language": "python",
     "metadata": {},
     "outputs": [
      {
       "metadata": {},
       "output_type": "pyout",
       "prompt_number": 104,
       "text": [
        "Intercept          53.770678\n",
        "C(cond)[T.used]   -10.899580\n",
        "dtype: float64"
       ]
      }
     ],
     "prompt_number": 104
    },
    {
     "cell_type": "markdown",
     "metadata": {},
     "source": [
      "Are the parameters the same as the previously fitted model?\n"
     ]
    },
    {
     "cell_type": "markdown",
     "metadata": {},
     "source": [
      "No. "
     ]
    },
    {
     "cell_type": "markdown",
     "metadata": {},
     "source": [
      "Run"
     ]
    },
    {
     "cell_type": "code",
     "collapsed": false,
     "input": [
      "est.summary()"
     ],
     "language": "python",
     "metadata": {},
     "outputs": [
      {
       "html": [
        "<table class=\"simpletable\">\n",
        "<caption>OLS Regression Results</caption>\n",
        "<tr>\n",
        "  <th>Dep. Variable:</th>         <td>totalPr</td>     <th>  R-squared:         </th> <td>   0.351</td>\n",
        "</tr>\n",
        "<tr>\n",
        "  <th>Model:</th>                   <td>OLS</td>       <th>  Adj. R-squared:    </th> <td>   0.346</td>\n",
        "</tr>\n",
        "<tr>\n",
        "  <th>Method:</th>             <td>Least Squares</td>  <th>  F-statistic:       </th> <td>   75.03</td>\n",
        "</tr>\n",
        "<tr>\n",
        "  <th>Date:</th>             <td>Tue, 03 Mar 2015</td> <th>  Prob (F-statistic):</th> <td>1.06e-14</td>\n",
        "</tr>\n",
        "<tr>\n",
        "  <th>Time:</th>                 <td>13:47:31</td>     <th>  Log-Likelihood:    </th> <td> -480.72</td>\n",
        "</tr>\n",
        "<tr>\n",
        "  <th>No. Observations:</th>      <td>   141</td>      <th>  AIC:               </th> <td>   965.4</td>\n",
        "</tr>\n",
        "<tr>\n",
        "  <th>Df Residuals:</th>          <td>   139</td>      <th>  BIC:               </th> <td>   971.3</td>\n",
        "</tr>\n",
        "<tr>\n",
        "  <th>Df Model:</th>              <td>     1</td>      <th>                     </th>     <td> </td>   \n",
        "</tr>\n",
        "</table>\n",
        "<table class=\"simpletable\">\n",
        "<tr>\n",
        "         <td></td>            <th>coef</th>     <th>std err</th>      <th>t</th>      <th>P>|t|</th> <th>[95.0% Conf. Int.]</th> \n",
        "</tr>\n",
        "<tr>\n",
        "  <th>Intercept</th>       <td>   53.7707</td> <td>    0.960</td> <td>   56.034</td> <td> 0.000</td> <td>   51.873    55.668</td>\n",
        "</tr>\n",
        "<tr>\n",
        "  <th>C(cond)[T.used]</th> <td>  -10.8996</td> <td>    1.258</td> <td>   -8.662</td> <td> 0.000</td> <td>  -13.388    -8.412</td>\n",
        "</tr>\n",
        "</table>\n",
        "<table class=\"simpletable\">\n",
        "<tr>\n",
        "  <th>Omnibus:</th>       <td>10.043</td> <th>  Durbin-Watson:     </th> <td>   2.163</td>\n",
        "</tr>\n",
        "<tr>\n",
        "  <th>Prob(Omnibus):</th> <td> 0.007</td> <th>  Jarque-Bera (JB):  </th> <td>  10.067</td>\n",
        "</tr>\n",
        "<tr>\n",
        "  <th>Skew:</th>          <td> 0.609</td> <th>  Prob(JB):          </th> <td> 0.00652</td>\n",
        "</tr>\n",
        "<tr>\n",
        "  <th>Kurtosis:</th>      <td> 3.482</td> <th>  Cond. No.          </th> <td>    2.86</td>\n",
        "</tr>\n",
        "</table>"
       ],
       "metadata": {},
       "output_type": "pyout",
       "prompt_number": 105,
       "text": [
        "<class 'statsmodels.iolib.summary.Summary'>\n",
        "\"\"\"\n",
        "                            OLS Regression Results                            \n",
        "==============================================================================\n",
        "Dep. Variable:                totalPr   R-squared:                       0.351\n",
        "Model:                            OLS   Adj. R-squared:                  0.346\n",
        "Method:                 Least Squares   F-statistic:                     75.03\n",
        "Date:                Tue, 03 Mar 2015   Prob (F-statistic):           1.06e-14\n",
        "Time:                        13:47:31   Log-Likelihood:                -480.72\n",
        "No. Observations:                 141   AIC:                             965.4\n",
        "Df Residuals:                     139   BIC:                             971.3\n",
        "Df Model:                           1                                         \n",
        "===================================================================================\n",
        "                      coef    std err          t      P>|t|      [95.0% Conf. Int.]\n",
        "-----------------------------------------------------------------------------------\n",
        "Intercept          53.7707      0.960     56.034      0.000        51.873    55.668\n",
        "C(cond)[T.used]   -10.8996      1.258     -8.662      0.000       -13.388    -8.412\n",
        "==============================================================================\n",
        "Omnibus:                       10.043   Durbin-Watson:                   2.163\n",
        "Prob(Omnibus):                  0.007   Jarque-Bera (JB):               10.067\n",
        "Skew:                           0.609   Prob(JB):                      0.00652\n",
        "Kurtosis:                       3.482   Cond. No.                         2.86\n",
        "==============================================================================\n",
        "\"\"\""
       ]
      }
     ],
     "prompt_number": 105
    },
    {
     "cell_type": "markdown",
     "metadata": {},
     "source": [
      "Can you explain now, why the parameters are different?"
     ]
    },
    {
     "cell_type": "markdown",
     "metadata": {},
     "source": [
      "The variable df.cond  is assigned by the function $C()$ the value one for used and zero for new."
     ]
    },
    {
     "cell_type": "markdown",
     "metadata": {},
     "source": [
      "#Multiple regression"
     ]
    },
    {
     "cell_type": "markdown",
     "metadata": {},
     "source": [
      "##Mario yet again!"
     ]
    },
    {
     "cell_type": "markdown",
     "metadata": {},
     "source": [
      "Use the new dataframe, free of outliers, to fit a **full** model, for the variables cond, stockPhoto, duration and wheels."
     ]
    },
    {
     "cell_type": "code",
     "collapsed": false,
     "input": [
      "df1['stockPhoto_num']=df1['stockPhoto'].map(lambda x: 1 if x=='yes' else 0)"
     ],
     "language": "python",
     "metadata": {},
     "outputs": [],
     "prompt_number": 106
    },
    {
     "cell_type": "code",
     "collapsed": false,
     "input": [
      "##Set X to be the variable that describes the condition of the game\n",
      "X=df1[['cond_num','stockPhoto_num','duration','wheels']]\n",
      "##Set y to be the variable that describes the total price\n",
      "y=df1.totalPr\n",
      "##Add a constanct for the intercept\n",
      "X = sm.add_constant(X)\n",
      " \n",
      "## fit a OLS model with intercept on shoulder girth\n",
      "est = sm.OLS(y, X).fit()\n",
      "##Get the estimated parameters of the regression line\n",
      "est.summary()"
     ],
     "language": "python",
     "metadata": {},
     "outputs": [
      {
       "html": [
        "<table class=\"simpletable\">\n",
        "<caption>OLS Regression Results</caption>\n",
        "<tr>\n",
        "  <th>Dep. Variable:</th>         <td>totalPr</td>     <th>  R-squared:         </th> <td>   0.719</td>\n",
        "</tr>\n",
        "<tr>\n",
        "  <th>Model:</th>                   <td>OLS</td>       <th>  Adj. R-squared:    </th> <td>   0.711</td>\n",
        "</tr>\n",
        "<tr>\n",
        "  <th>Method:</th>             <td>Least Squares</td>  <th>  F-statistic:       </th> <td>   87.01</td>\n",
        "</tr>\n",
        "<tr>\n",
        "  <th>Date:</th>             <td>Tue, 03 Mar 2015</td> <th>  Prob (F-statistic):</th> <td>1.61e-36</td>\n",
        "</tr>\n",
        "<tr>\n",
        "  <th>Time:</th>                 <td>13:47:31</td>     <th>  Log-Likelihood:    </th> <td> -421.65</td>\n",
        "</tr>\n",
        "<tr>\n",
        "  <th>No. Observations:</th>      <td>   141</td>      <th>  AIC:               </th> <td>   853.3</td>\n",
        "</tr>\n",
        "<tr>\n",
        "  <th>Df Residuals:</th>          <td>   136</td>      <th>  BIC:               </th> <td>   868.0</td>\n",
        "</tr>\n",
        "<tr>\n",
        "  <th>Df Model:</th>              <td>     4</td>      <th>                     </th>     <td> </td>   \n",
        "</tr>\n",
        "</table>\n",
        "<table class=\"simpletable\">\n",
        "<tr>\n",
        "         <td></td>           <th>coef</th>     <th>std err</th>      <th>t</th>      <th>P>|t|</th> <th>[95.0% Conf. Int.]</th> \n",
        "</tr>\n",
        "<tr>\n",
        "  <th>const</th>          <td>   36.2110</td> <td>    1.514</td> <td>   23.917</td> <td> 0.000</td> <td>   33.217    39.205</td>\n",
        "</tr>\n",
        "<tr>\n",
        "  <th>cond_num</th>       <td>    5.1306</td> <td>    1.051</td> <td>    4.881</td> <td> 0.000</td> <td>    3.052     7.209</td>\n",
        "</tr>\n",
        "<tr>\n",
        "  <th>stockPhoto_num</th> <td>    1.0803</td> <td>    1.057</td> <td>    1.022</td> <td> 0.308</td> <td>   -1.010     3.170</td>\n",
        "</tr>\n",
        "<tr>\n",
        "  <th>duration</th>       <td>   -0.0268</td> <td>    0.190</td> <td>   -0.141</td> <td> 0.888</td> <td>   -0.403     0.350</td>\n",
        "</tr>\n",
        "<tr>\n",
        "  <th>wheels</th>         <td>    7.2852</td> <td>    0.555</td> <td>   13.134</td> <td> 0.000</td> <td>    6.188     8.382</td>\n",
        "</tr>\n",
        "</table>\n",
        "<table class=\"simpletable\">\n",
        "<tr>\n",
        "  <th>Omnibus:</th>       <td> 4.602</td> <th>  Durbin-Watson:     </th> <td>   1.940</td>\n",
        "</tr>\n",
        "<tr>\n",
        "  <th>Prob(Omnibus):</th> <td> 0.100</td> <th>  Jarque-Bera (JB):  </th> <td>   4.630</td>\n",
        "</tr>\n",
        "<tr>\n",
        "  <th>Skew:</th>          <td> 0.438</td> <th>  Prob(JB):          </th> <td>  0.0988</td>\n",
        "</tr>\n",
        "<tr>\n",
        "  <th>Kurtosis:</th>      <td> 2.859</td> <th>  Cond. No.          </th> <td>    19.7</td>\n",
        "</tr>\n",
        "</table>"
       ],
       "metadata": {},
       "output_type": "pyout",
       "prompt_number": 107,
       "text": [
        "<class 'statsmodels.iolib.summary.Summary'>\n",
        "\"\"\"\n",
        "                            OLS Regression Results                            \n",
        "==============================================================================\n",
        "Dep. Variable:                totalPr   R-squared:                       0.719\n",
        "Model:                            OLS   Adj. R-squared:                  0.711\n",
        "Method:                 Least Squares   F-statistic:                     87.01\n",
        "Date:                Tue, 03 Mar 2015   Prob (F-statistic):           1.61e-36\n",
        "Time:                        13:47:31   Log-Likelihood:                -421.65\n",
        "No. Observations:                 141   AIC:                             853.3\n",
        "Df Residuals:                     136   BIC:                             868.0\n",
        "Df Model:                           4                                         \n",
        "==================================================================================\n",
        "                     coef    std err          t      P>|t|      [95.0% Conf. Int.]\n",
        "----------------------------------------------------------------------------------\n",
        "const             36.2110      1.514     23.917      0.000        33.217    39.205\n",
        "cond_num           5.1306      1.051      4.881      0.000         3.052     7.209\n",
        "stockPhoto_num     1.0803      1.057      1.022      0.308        -1.010     3.170\n",
        "duration          -0.0268      0.190     -0.141      0.888        -0.403     0.350\n",
        "wheels             7.2852      0.555     13.134      0.000         6.188     8.382\n",
        "==============================================================================\n",
        "Omnibus:                        4.602   Durbin-Watson:                   1.940\n",
        "Prob(Omnibus):                  0.100   Jarque-Bera (JB):                4.630\n",
        "Skew:                           0.438   Prob(JB):                       0.0988\n",
        "Kurtosis:                       2.859   Cond. No.                         19.7\n",
        "==============================================================================\n",
        "\"\"\""
       ]
      }
     ],
     "prompt_number": 107
    },
    {
     "cell_type": "markdown",
     "metadata": {},
     "source": [
      "Apply the Backwards selection strategy to come up with the \"best\" model."
     ]
    },
    {
     "cell_type": "markdown",
     "metadata": {},
     "source": [
      "Remove stockPhoto_num and refit the model."
     ]
    },
    {
     "cell_type": "code",
     "collapsed": false,
     "input": [
      "##Set X to be the variable that describes the condition of the game\n",
      "X=df1[['cond_num','duration','wheels']]\n",
      "##Set y to be the variable that describes the total price\n",
      "y=df1.totalPr\n",
      "##Add a constanct for the intercept\n",
      "X = sm.add_constant(X)\n",
      " \n",
      "## fit a OLS model with intercept on shoulder girth\n",
      "est = sm.OLS(y, X).fit()\n",
      "##Get the estimated parameters of the regression line\n",
      "est.summary()"
     ],
     "language": "python",
     "metadata": {},
     "outputs": [
      {
       "html": [
        "<table class=\"simpletable\">\n",
        "<caption>OLS Regression Results</caption>\n",
        "<tr>\n",
        "  <th>Dep. Variable:</th>         <td>totalPr</td>     <th>  R-squared:         </th> <td>   0.717</td>\n",
        "</tr>\n",
        "<tr>\n",
        "  <th>Model:</th>                   <td>OLS</td>       <th>  Adj. R-squared:    </th> <td>   0.711</td>\n",
        "</tr>\n",
        "<tr>\n",
        "  <th>Method:</th>             <td>Least Squares</td>  <th>  F-statistic:       </th> <td>   115.6</td>\n",
        "</tr>\n",
        "<tr>\n",
        "  <th>Date:</th>             <td>Tue, 03 Mar 2015</td> <th>  Prob (F-statistic):</th> <td>2.31e-37</td>\n",
        "</tr>\n",
        "<tr>\n",
        "  <th>Time:</th>                 <td>13:47:31</td>     <th>  Log-Likelihood:    </th> <td> -422.19</td>\n",
        "</tr>\n",
        "<tr>\n",
        "  <th>No. Observations:</th>      <td>   141</td>      <th>  AIC:               </th> <td>   852.4</td>\n",
        "</tr>\n",
        "<tr>\n",
        "  <th>Df Residuals:</th>          <td>   137</td>      <th>  BIC:               </th> <td>   864.2</td>\n",
        "</tr>\n",
        "<tr>\n",
        "  <th>Df Model:</th>              <td>     3</td>      <th>                     </th>     <td> </td>   \n",
        "</tr>\n",
        "</table>\n",
        "<table class=\"simpletable\">\n",
        "<tr>\n",
        "      <td></td>        <th>coef</th>     <th>std err</th>      <th>t</th>      <th>P>|t|</th> <th>[95.0% Conf. Int.]</th> \n",
        "</tr>\n",
        "<tr>\n",
        "  <th>const</th>    <td>   37.1750</td> <td>    1.185</td> <td>   31.382</td> <td> 0.000</td> <td>   34.833    39.517</td>\n",
        "</tr>\n",
        "<tr>\n",
        "  <th>cond_num</th> <td>    5.4170</td> <td>    1.013</td> <td>    5.346</td> <td> 0.000</td> <td>    3.413     7.421</td>\n",
        "</tr>\n",
        "<tr>\n",
        "  <th>duration</th> <td>   -0.0758</td> <td>    0.184</td> <td>   -0.411</td> <td> 0.682</td> <td>   -0.440     0.289</td>\n",
        "</tr>\n",
        "<tr>\n",
        "  <th>wheels</th>   <td>    7.2018</td> <td>    0.549</td> <td>   13.124</td> <td> 0.000</td> <td>    6.117     8.287</td>\n",
        "</tr>\n",
        "</table>\n",
        "<table class=\"simpletable\">\n",
        "<tr>\n",
        "  <th>Omnibus:</th>       <td> 5.028</td> <th>  Durbin-Watson:     </th> <td>   1.915</td>\n",
        "</tr>\n",
        "<tr>\n",
        "  <th>Prob(Omnibus):</th> <td> 0.081</td> <th>  Jarque-Bera (JB):  </th> <td>   5.107</td>\n",
        "</tr>\n",
        "<tr>\n",
        "  <th>Skew:</th>          <td> 0.459</td> <th>  Prob(JB):          </th> <td>  0.0778</td>\n",
        "</tr>\n",
        "<tr>\n",
        "  <th>Kurtosis:</th>      <td> 2.833</td> <th>  Cond. No.          </th> <td>    15.2</td>\n",
        "</tr>\n",
        "</table>"
       ],
       "metadata": {},
       "output_type": "pyout",
       "prompt_number": 108,
       "text": [
        "<class 'statsmodels.iolib.summary.Summary'>\n",
        "\"\"\"\n",
        "                            OLS Regression Results                            \n",
        "==============================================================================\n",
        "Dep. Variable:                totalPr   R-squared:                       0.717\n",
        "Model:                            OLS   Adj. R-squared:                  0.711\n",
        "Method:                 Least Squares   F-statistic:                     115.6\n",
        "Date:                Tue, 03 Mar 2015   Prob (F-statistic):           2.31e-37\n",
        "Time:                        13:47:31   Log-Likelihood:                -422.19\n",
        "No. Observations:                 141   AIC:                             852.4\n",
        "Df Residuals:                     137   BIC:                             864.2\n",
        "Df Model:                           3                                         \n",
        "==============================================================================\n",
        "                 coef    std err          t      P>|t|      [95.0% Conf. Int.]\n",
        "------------------------------------------------------------------------------\n",
        "const         37.1750      1.185     31.382      0.000        34.833    39.517\n",
        "cond_num       5.4170      1.013      5.346      0.000         3.413     7.421\n",
        "duration      -0.0758      0.184     -0.411      0.682        -0.440     0.289\n",
        "wheels         7.2018      0.549     13.124      0.000         6.117     8.287\n",
        "==============================================================================\n",
        "Omnibus:                        5.028   Durbin-Watson:                   1.915\n",
        "Prob(Omnibus):                  0.081   Jarque-Bera (JB):                5.107\n",
        "Skew:                           0.459   Prob(JB):                       0.0778\n",
        "Kurtosis:                       2.833   Cond. No.                         15.2\n",
        "==============================================================================\n",
        "\"\"\""
       ]
      }
     ],
     "prompt_number": 108
    },
    {
     "cell_type": "markdown",
     "metadata": {},
     "source": [
      "Remove duration and refit the model."
     ]
    },
    {
     "cell_type": "code",
     "collapsed": false,
     "input": [
      "##Set X to be the variable that describes the condition of the game\n",
      "X=df1[['cond_num','wheels']]\n",
      "##Set y to be the variable that describes the total price\n",
      "y=df1.totalPr\n",
      "##Add a constanct for the intercept\n",
      "X = sm.add_constant(X)\n",
      " \n",
      "## fit a OLS model with intercept on shoulder girth\n",
      "est = sm.OLS(y, X).fit()\n",
      "##Get the estimated parameters of the regression line\n",
      "est.summary()"
     ],
     "language": "python",
     "metadata": {},
     "outputs": [
      {
       "html": [
        "<table class=\"simpletable\">\n",
        "<caption>OLS Regression Results</caption>\n",
        "<tr>\n",
        "  <th>Dep. Variable:</th>         <td>totalPr</td>     <th>  R-squared:         </th> <td>   0.717</td>\n",
        "</tr>\n",
        "<tr>\n",
        "  <th>Model:</th>                   <td>OLS</td>       <th>  Adj. R-squared:    </th> <td>   0.712</td>\n",
        "</tr>\n",
        "<tr>\n",
        "  <th>Method:</th>             <td>Least Squares</td>  <th>  F-statistic:       </th> <td>   174.4</td>\n",
        "</tr>\n",
        "<tr>\n",
        "  <th>Date:</th>             <td>Tue, 03 Mar 2015</td> <th>  Prob (F-statistic):</th> <td>1.68e-38</td>\n",
        "</tr>\n",
        "<tr>\n",
        "  <th>Time:</th>                 <td>13:47:31</td>     <th>  Log-Likelihood:    </th> <td> -422.27</td>\n",
        "</tr>\n",
        "<tr>\n",
        "  <th>No. Observations:</th>      <td>   141</td>      <th>  AIC:               </th> <td>   850.5</td>\n",
        "</tr>\n",
        "<tr>\n",
        "  <th>Df Residuals:</th>          <td>   138</td>      <th>  BIC:               </th> <td>   859.4</td>\n",
        "</tr>\n",
        "<tr>\n",
        "  <th>Df Model:</th>              <td>     2</td>      <th>                     </th>     <td> </td>   \n",
        "</tr>\n",
        "</table>\n",
        "<table class=\"simpletable\">\n",
        "<tr>\n",
        "      <td></td>        <th>coef</th>     <th>std err</th>      <th>t</th>      <th>P>|t|</th> <th>[95.0% Conf. Int.]</th> \n",
        "</tr>\n",
        "<tr>\n",
        "  <th>const</th>    <td>   36.7849</td> <td>    0.707</td> <td>   52.062</td> <td> 0.000</td> <td>   35.388    38.182</td>\n",
        "</tr>\n",
        "<tr>\n",
        "  <th>cond_num</th> <td>    5.5848</td> <td>    0.925</td> <td>    6.041</td> <td> 0.000</td> <td>    3.757     7.413</td>\n",
        "</tr>\n",
        "<tr>\n",
        "  <th>wheels</th>   <td>    7.2328</td> <td>    0.542</td> <td>   13.347</td> <td> 0.000</td> <td>    6.161     8.304</td>\n",
        "</tr>\n",
        "</table>\n",
        "<table class=\"simpletable\">\n",
        "<tr>\n",
        "  <th>Omnibus:</th>       <td> 5.138</td> <th>  Durbin-Watson:     </th> <td>   1.930</td>\n",
        "</tr>\n",
        "<tr>\n",
        "  <th>Prob(Omnibus):</th> <td> 0.077</td> <th>  Jarque-Bera (JB):  </th> <td>   5.207</td>\n",
        "</tr>\n",
        "<tr>\n",
        "  <th>Skew:</th>          <td> 0.465</td> <th>  Prob(JB):          </th> <td>  0.0740</td>\n",
        "</tr>\n",
        "<tr>\n",
        "  <th>Kurtosis:</th>      <td> 2.853</td> <th>  Cond. No.          </th> <td>    4.06</td>\n",
        "</tr>\n",
        "</table>"
       ],
       "metadata": {},
       "output_type": "pyout",
       "prompt_number": 109,
       "text": [
        "<class 'statsmodels.iolib.summary.Summary'>\n",
        "\"\"\"\n",
        "                            OLS Regression Results                            \n",
        "==============================================================================\n",
        "Dep. Variable:                totalPr   R-squared:                       0.717\n",
        "Model:                            OLS   Adj. R-squared:                  0.712\n",
        "Method:                 Least Squares   F-statistic:                     174.4\n",
        "Date:                Tue, 03 Mar 2015   Prob (F-statistic):           1.68e-38\n",
        "Time:                        13:47:31   Log-Likelihood:                -422.27\n",
        "No. Observations:                 141   AIC:                             850.5\n",
        "Df Residuals:                     138   BIC:                             859.4\n",
        "Df Model:                           2                                         \n",
        "==============================================================================\n",
        "                 coef    std err          t      P>|t|      [95.0% Conf. Int.]\n",
        "------------------------------------------------------------------------------\n",
        "const         36.7849      0.707     52.062      0.000        35.388    38.182\n",
        "cond_num       5.5848      0.925      6.041      0.000         3.757     7.413\n",
        "wheels         7.2328      0.542     13.347      0.000         6.161     8.304\n",
        "==============================================================================\n",
        "Omnibus:                        5.138   Durbin-Watson:                   1.930\n",
        "Prob(Omnibus):                  0.077   Jarque-Bera (JB):                5.207\n",
        "Skew:                           0.465   Prob(JB):                       0.0740\n",
        "Kurtosis:                       2.853   Cond. No.                         4.06\n",
        "==============================================================================\n",
        "\"\"\""
       ]
      }
     ],
     "prompt_number": 109
    },
    {
     "cell_type": "markdown",
     "metadata": {},
     "source": [
      "And this is the model we select."
     ]
    },
    {
     "cell_type": "markdown",
     "metadata": {},
     "source": [
      "##Does the data satisfy the conditions for a multiple regression model?\n",
      "###Reminder\n",
      "**Conditions**\n",
      "1. The residuals of the model are nearly normal\n",
      "2. the variability of the residuals is nearly constant\n",
      "3. the residuals are independent\n",
      "4. each variable is linearly related to the outcome."
     ]
    },
    {
     "cell_type": "markdown",
     "metadata": {},
     "source": [
      "Produce the respective graphs and comment on them."
     ]
    },
    {
     "cell_type": "code",
     "collapsed": false,
     "input": [
      "plt.hist(est.resid)"
     ],
     "language": "python",
     "metadata": {},
     "outputs": [
      {
       "metadata": {},
       "output_type": "pyout",
       "prompt_number": 110,
       "text": [
        "(array([  3.,   8.,  22.,  32.,  29.,  19.,  11.,   9.,   7.,   1.]),\n",
        " array([-11.00776738,  -8.49053473,  -5.97330207,  -3.45606942,\n",
        "         -0.93883677,   1.57839589,   4.09562854,   6.61286119,\n",
        "          9.13009385,  11.6473265 ,  14.16455915]),\n",
        " <a list of 10 Patch objects>)"
       ]
      },
      {
       "metadata": {},
       "output_type": "display_data",
       "png": "[encoded data removed]",
       "text": [
        "<matplotlib.figure.Figure at 0x10efe3e10>"
       ]
      }
     ],
     "prompt_number": 110
    },
    {
     "cell_type": "code",
     "collapsed": false,
     "input": [
      "stats.probplot(est.resid,plot=pylab)"
     ],
     "language": "python",
     "metadata": {},
     "outputs": [
      {
       "metadata": {},
       "output_type": "pyout",
       "prompt_number": 111,
       "text": [
        "((array([-2.58253477, -2.26028402, -2.07537922, -1.94231337, -1.83674906,\n",
        "         -1.74840038, -1.67190784, -1.6041079 , -1.54297005, -1.48710979,\n",
        "         -1.4355389 , -1.38752621, -1.34251479, -1.3000702 , -1.25984666,\n",
        "         -1.22156424, -1.18499296, -1.14994141, -1.1162485 , -1.0837773 ,\n",
        "         -1.05241034, -1.02204606, -0.99259601, -0.96398261, -0.93613746,\n",
        "         -0.90899987, -0.88251575, -0.85663662, -0.83131888, -0.80652311,\n",
        "         -0.78221359, -0.75835777, -0.73492593, -0.71189083, -0.68922744,\n",
        "         -0.66691265, -0.64492514, -0.62324509, -0.60185412, -0.58073507,\n",
        "         -0.55987193, -0.5392497 , -0.51885431, -0.49867251, -0.47869182,\n",
        "         -0.45890044, -0.43928722, -0.41984155, -0.40055337, -0.38141308,\n",
        "         -0.36241152, -0.34353993, -0.32478992, -0.3061534 , -0.28762263,\n",
        "         -0.2691901 , -0.25084859, -0.23259109, -0.2144108 , -0.19630111,\n",
        "         -0.17825558, -0.16026791, -0.14233195, -0.12444167, -0.10659113,\n",
        "         -0.08877449, -0.07098599, -0.05321993, -0.03547065, -0.01773253,\n",
        "          0.        ,  0.01773253,  0.03547065,  0.05321993,  0.07098599,\n",
        "          0.08877449,  0.10659113,  0.12444167,  0.14233195,  0.16026791,\n",
        "          0.17825558,  0.19630111,  0.2144108 ,  0.23259109,  0.25084859,\n",
        "          0.2691901 ,  0.28762263,  0.3061534 ,  0.32478992,  0.34353993,\n",
        "          0.36241152,  0.38141308,  0.40055337,  0.41984155,  0.43928722,\n",
        "          0.45890044,  0.47869182,  0.49867251,  0.51885431,  0.5392497 ,\n",
        "          0.55987193,  0.58073507,  0.60185412,  0.62324509,  0.64492514,\n",
        "          0.66691265,  0.68922744,  0.71189083,  0.73492593,  0.75835777,\n",
        "          0.78221359,  0.80652311,  0.83131888,  0.85663662,  0.88251575,\n",
        "          0.90899987,  0.93613746,  0.96398261,  0.99259601,  1.02204606,\n",
        "          1.05241034,  1.0837773 ,  1.1162485 ,  1.14994141,  1.18499296,\n",
        "          1.22156424,  1.25984666,  1.3000702 ,  1.34251479,  1.38752621,\n",
        "          1.4355389 ,  1.48710979,  1.54297005,  1.6041079 ,  1.67190784,\n",
        "          1.74840038,  1.83674906,  1.94231337,  2.07537922,  2.26028402,\n",
        "          2.58253477]),\n",
        "  array([-11.00776738,  -9.02776738,  -8.83544085,  -8.10260045,\n",
        "          -8.01776738,  -7.84544085,  -7.80492699,  -7.25060777,\n",
        "          -6.97776738,  -6.78492699,  -6.33544085,  -5.78492699,\n",
        "          -5.78492699,  -5.78492699,  -5.75776738,  -5.72492699,\n",
        "          -5.60260045,  -5.25060777,  -4.84544085,  -4.78492699,\n",
        "          -4.60260045,  -4.24544085,  -4.10260045,  -4.01776738,\n",
        "          -3.96776738,  -3.95776738,  -3.91776738,  -3.61260045,\n",
        "          -3.60260045,  -3.60260045,  -3.60260045,  -3.60260045,\n",
        "          -3.57260045,  -3.31776738,  -3.07544085,  -3.07544085,\n",
        "          -3.01776738,  -3.01776738,  -2.89260045,  -2.85544085,\n",
        "          -2.84544085,  -2.84544085,  -2.84544085,  -2.84544085,\n",
        "          -2.66776738,  -2.60260045,  -2.60260045,  -2.60260045,\n",
        "          -2.32544085,  -2.28492699,  -2.26976006,  -2.25060777,\n",
        "          -2.25060777,  -2.24060777,  -2.02776738,  -2.02776738,\n",
        "          -1.90260045,  -1.84544085,  -1.84544085,  -1.83544085,\n",
        "          -1.76776738,  -1.76060777,  -1.46776738,  -1.25060777,\n",
        "          -1.01776738,  -0.84544085,  -0.84544085,  -0.83544085,\n",
        "          -0.83544085,  -0.83544085,  -0.82544085,  -0.79492699,\n",
        "          -0.78492699,  -0.78492699,  -0.78492699,  -0.69628856,\n",
        "          -0.68776738,  -0.65776738,  -0.25060777,  -0.01776738,\n",
        "          -0.01776738,   0.20507301,   0.21507301,   0.23507301,\n",
        "           0.30739955,   0.66455915,   0.74939223,   0.76223262,\n",
        "           1.16455915,   1.19223262,   1.21507301,   1.24939223,\n",
        "           1.27507301,   1.31507301,   1.73223262,   1.94739955,\n",
        "           1.97507301,   1.98223262,   1.98223262,   2.14455915,\n",
        "           2.21507301,   2.21507301,   2.48223262,   2.63023994,\n",
        "           2.72507301,   2.98223262,   2.98223262,   3.04455915,\n",
        "           3.21507301,   3.23939223,   3.74939223,   3.98223262,\n",
        "           3.98223262,   4.16455915,   4.34939223,   4.90223262,\n",
        "           5.09739955,   5.16507301,   5.21507301,   5.98223262,\n",
        "           6.01655183,   6.05455915,   6.21507301,   6.21507301,\n",
        "           6.66455915,   7.15455915,   7.16455915,   7.16507301,\n",
        "           7.38023994,   8.11455915,   8.11455915,   8.11455915,\n",
        "           8.21507301,   9.21507301,   9.60455915,   9.62023994,\n",
        "          10.21507301,  10.21507301,  10.50939223,  10.93171876,  14.16455915])),\n",
        " (4.8534470511986996, 1.4196084199858034e-14, 0.98872065209161786))"
       ]
      },
      {
       "metadata": {},
       "output_type": "display_data",
       "png": "[encoded data removed]",
       "text": [
        "<matplotlib.figure.Figure at 0x11275dc10>"
       ]
      }
     ],
     "prompt_number": 111
    },
    {
     "cell_type": "markdown",
     "metadata": {},
     "source": [
      "While the plot exhibits some minor irregularities, there are no outliers that might be cause for concern. "
     ]
    },
    {
     "cell_type": "code",
     "collapsed": false,
     "input": [
      "plt.plot(est.resid,'o')"
     ],
     "language": "python",
     "metadata": {},
     "outputs": [
      {
       "metadata": {},
       "output_type": "pyout",
       "prompt_number": 112,
       "text": [
        "[<matplotlib.lines.Line2D at 0x112bbeed0>]"
       ]
      },
      {
       "metadata": {},
       "output_type": "display_data",
       "png": "[encoded data removed]",
       "text": [
        "<matplotlib.figure.Figure at 0x11297d710>"
       ]
      }
     ],
     "prompt_number": 112
    },
    {
     "cell_type": "markdown",
     "metadata": {},
     "source": [
      "We don\u2019t see any obvious deviations from constant variance in this plot.\n",
      "\n",
      "Plotting residuals in the order that their corresponding observations were \n",
      "collected helps identify connections between successive observations.\n",
      "If it seems that consecutive observations tend to be close to each other,\n",
      "this indicates the independence assumption of the observations would fail.\n",
      "\n",
      "In this case there are no such evidence, so we can conclude that the residuals are independent."
     ]
    },
    {
     "cell_type": "code",
     "collapsed": false,
     "input": [
      "df1.boxplot('totalPr',by='cond_num',)"
     ],
     "language": "python",
     "metadata": {},
     "outputs": [
      {
       "metadata": {},
       "output_type": "pyout",
       "prompt_number": 121,
       "text": [
        "<matplotlib.axes._subplots.AxesSubplot at 0x112d9a510>"
       ]
      },
      {
       "metadata": {},
       "output_type": "display_data",
       "png": "[encoded data removed]",
       "text": [
        "<matplotlib.figure.Figure at 0x112dbb150>"
       ]
      }
     ],
     "prompt_number": 121
    },
    {
     "cell_type": "code",
     "collapsed": false,
     "input": [
      "plt.plot(df1.wheels,df1.totalPr,'o')"
     ],
     "language": "python",
     "metadata": {},
     "outputs": [
      {
       "metadata": {},
       "output_type": "pyout",
       "prompt_number": 79,
       "text": [
        "[<matplotlib.lines.Line2D at 0x10b7b5410>]"
       ]
      },
      {
       "metadata": {},
       "output_type": "display_data",
       "png": "[encoded data removed]",
       "text": [
        "<matplotlib.figure.Figure at 0x10b97f210>"
       ]
      }
     ],
     "prompt_number": 79
    },
    {
     "cell_type": "markdown",
     "metadata": {},
     "source": [
      "In the two-level variable for the game\u2019s condition, we check for differences in distribution shape or variability.\n",
      "\n",
      "For numerical predictors, we also check for trends or other structure. \n",
      "We see some slight bowing in the residuals against the wheels variable.\n",
      "\n",
      "So there may be a nonlinear relationship between the total price and the number of wheels included for an auction. "
     ]
    },
    {
     "cell_type": "markdown",
     "metadata": {},
     "source": []
    },
    {
     "cell_type": "code",
     "collapsed": false,
     "input": [],
     "language": "python",
     "metadata": {},
     "outputs": []
    }
   ],
   "metadata": {}
  }
 ]
}