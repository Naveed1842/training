{
 "metadata": {
  "name": "",
  "signature": "sha256:2860b898b448ed7b67634ca83e6653d9da2fb3c23bf02e8533736d91d11186f7"
 },
 "nbformat": 3,
 "nbformat_minor": 0,
 "worksheets": [
  {
   "cells": [
    {
     "cell_type": "code",
     "collapsed": false,
     "input": [
      "import pandas as pd\n",
      "import sqlite3"
     ],
     "language": "python",
     "metadata": {},
     "outputs": [],
     "prompt_number": 2
    },
    {
     "cell_type": "heading",
     "level": 1,
     "metadata": {},
     "source": [
      "Movie Ratings"
     ]
    },
    {
     "cell_type": "markdown",
     "metadata": {},
     "source": [
      "You've started a new movie-rating website, and you've been collecting data on reviewers' ratings of various movies. There's not much data yet, but you can still try out some interesting queries. Here's the schema: \n",
      "\n",
      "Movie ( mID, title, year, director ) \n",
      "English: There is a movie with ID number mID, a title, a release year, and a director. \n",
      "\n",
      "Reviewer ( rID, name ) \n",
      "English: The reviewer with ID number rID has a certain name. \n",
      "\n",
      "Rating ( rID, mID, stars, ratingDate ) \n",
      "English: The reviewer rID gave the movie mID a number of stars rating (1-5) on a certain ratingDate. "
     ]
    },
    {
     "cell_type": "code",
     "collapsed": false,
     "input": [
      "con = sqlite3.connect(\"movie-ratings.sqlite\")\n",
      "df = pd.read_sql(\"SELECT * from Rating limit 3\", con)\n",
      "df"
     ],
     "language": "python",
     "metadata": {},
     "outputs": [
      {
       "html": [
        "<div style=\"max-height:1000px;max-width:1500px;overflow:auto;\">\n",
        "<table border=\"1\" class=\"dataframe\">\n",
        "  <thead>\n",
        "    <tr style=\"text-align: right;\">\n",
        "      <th></th>\n",
        "      <th>rID</th>\n",
        "      <th>mID</th>\n",
        "      <th>stars</th>\n",
        "      <th>ratingDate</th>\n",
        "    </tr>\n",
        "  </thead>\n",
        "  <tbody>\n",
        "    <tr>\n",
        "      <th>0</th>\n",
        "      <td> 201</td>\n",
        "      <td> 101</td>\n",
        "      <td> 2</td>\n",
        "      <td> 2011-01-22</td>\n",
        "    </tr>\n",
        "    <tr>\n",
        "      <th>1</th>\n",
        "      <td> 201</td>\n",
        "      <td> 101</td>\n",
        "      <td> 4</td>\n",
        "      <td> 2011-01-27</td>\n",
        "    </tr>\n",
        "    <tr>\n",
        "      <th>2</th>\n",
        "      <td> 202</td>\n",
        "      <td> 106</td>\n",
        "      <td> 4</td>\n",
        "      <td>       None</td>\n",
        "    </tr>\n",
        "  </tbody>\n",
        "</table>\n",
        "</div>"
       ],
       "metadata": {},
       "output_type": "pyout",
       "prompt_number": 2,
       "text": [
        "   rID  mID  stars  ratingDate\n",
        "0  201  101      2  2011-01-22\n",
        "1  201  101      4  2011-01-27\n",
        "2  202  106      4        None"
       ]
      }
     ],
     "prompt_number": 2
    },
    {
     "cell_type": "markdown",
     "metadata": {},
     "source": [
      "Find the titles of all movies directed by Steven Spielberg. \n"
     ]
    },
    {
     "cell_type": "code",
     "collapsed": false,
     "input": [
      "q = \"\"\"\n",
      "select title\n",
      "from Movie\n",
      "where director='Steven Spielberg';\n",
      "\"\"\"\n",
      "df = pd.read_sql(q, con)\n",
      "df"
     ],
     "language": "python",
     "metadata": {},
     "outputs": [
      {
       "html": [
        "<div style=\"max-height:1000px;max-width:1500px;overflow:auto;\">\n",
        "<table border=\"1\" class=\"dataframe\">\n",
        "  <thead>\n",
        "    <tr style=\"text-align: right;\">\n",
        "      <th></th>\n",
        "      <th>title</th>\n",
        "    </tr>\n",
        "  </thead>\n",
        "  <tbody>\n",
        "    <tr>\n",
        "      <th>0</th>\n",
        "      <td>                    E.T.</td>\n",
        "    </tr>\n",
        "    <tr>\n",
        "      <th>1</th>\n",
        "      <td> Raiders of the Lost Ark</td>\n",
        "    </tr>\n",
        "  </tbody>\n",
        "</table>\n",
        "</div>"
       ],
       "metadata": {},
       "output_type": "pyout",
       "prompt_number": 8,
       "text": [
        "                     title\n",
        "0                     E.T.\n",
        "1  Raiders of the Lost Ark"
       ]
      }
     ],
     "prompt_number": 8
    },
    {
     "cell_type": "markdown",
     "metadata": {},
     "source": [
      "Find all years that have a movie that received a rating of 4 or 5, and sort them in increasing order. "
     ]
    },
    {
     "cell_type": "code",
     "collapsed": false,
     "input": [
      "q = \"\"\"\n",
      "select distinct year\n",
      "from Movie, Rating\n",
      "where Rating.mID = Movie.mID and stars >= 4\n",
      "order by Year;\n",
      "\"\"\"\n",
      "df = pd.read_sql(q, con)\n",
      "df"
     ],
     "language": "python",
     "metadata": {},
     "outputs": [
      {
       "html": [
        "<div style=\"max-height:1000px;max-width:1500px;overflow:auto;\">\n",
        "<table border=\"1\" class=\"dataframe\">\n",
        "  <thead>\n",
        "    <tr style=\"text-align: right;\">\n",
        "      <th></th>\n",
        "      <th>year</th>\n",
        "    </tr>\n",
        "  </thead>\n",
        "  <tbody>\n",
        "    <tr>\n",
        "      <th>0</th>\n",
        "      <td> 1937</td>\n",
        "    </tr>\n",
        "    <tr>\n",
        "      <th>1</th>\n",
        "      <td> 1939</td>\n",
        "    </tr>\n",
        "    <tr>\n",
        "      <th>2</th>\n",
        "      <td> 1981</td>\n",
        "    </tr>\n",
        "    <tr>\n",
        "      <th>3</th>\n",
        "      <td> 2009</td>\n",
        "    </tr>\n",
        "  </tbody>\n",
        "</table>\n",
        "</div>"
       ],
       "metadata": {},
       "output_type": "pyout",
       "prompt_number": 9,
       "text": [
        "   year\n",
        "0  1937\n",
        "1  1939\n",
        "2  1981\n",
        "3  2009"
       ]
      }
     ],
     "prompt_number": 9
    },
    {
     "cell_type": "markdown",
     "metadata": {},
     "source": [
      "Find the titles of all movies that have no ratings. \n"
     ]
    },
    {
     "cell_type": "code",
     "collapsed": false,
     "input": [
      " q = \"\"\"\n",
      "select title\n",
      "from Movie\n",
      "where mID not in (select mID \n",
      "                  from Rating)\n",
      "\"\"\"\n",
      "df = pd.read_sql(q, con)\n",
      "df"
     ],
     "language": "python",
     "metadata": {},
     "outputs": [
      {
       "html": [
        "<div style=\"max-height:1000px;max-width:1500px;overflow:auto;\">\n",
        "<table border=\"1\" class=\"dataframe\">\n",
        "  <thead>\n",
        "    <tr style=\"text-align: right;\">\n",
        "      <th></th>\n",
        "      <th>title</th>\n",
        "    </tr>\n",
        "  </thead>\n",
        "  <tbody>\n",
        "    <tr>\n",
        "      <th>0</th>\n",
        "      <td> Star Wars</td>\n",
        "    </tr>\n",
        "    <tr>\n",
        "      <th>1</th>\n",
        "      <td>   Titanic</td>\n",
        "    </tr>\n",
        "  </tbody>\n",
        "</table>\n",
        "</div>"
       ],
       "metadata": {},
       "output_type": "pyout",
       "prompt_number": 11,
       "text": [
        "       title\n",
        "0  Star Wars\n",
        "1    Titanic"
       ]
      }
     ],
     "prompt_number": 11
    },
    {
     "cell_type": "markdown",
     "metadata": {},
     "source": [
      "Some reviewers didn't provide a date with their rating. Find the names of all reviewers who have ratings with a NULL value for the date. \n"
     ]
    },
    {
     "cell_type": "code",
     "collapsed": false,
     "input": [
      " q = \"\"\"\n",
      "select distinct name\n",
      "from Reviewer, Rating\n",
      "where Reviewer.rID = Rating.rID and ratingDate is NULL;\n",
      "\"\"\"\n",
      "df = pd.read_sql(q, con)\n",
      "df"
     ],
     "language": "python",
     "metadata": {},
     "outputs": [
      {
       "html": [
        "<div style=\"max-height:1000px;max-width:1500px;overflow:auto;\">\n",
        "<table border=\"1\" class=\"dataframe\">\n",
        "  <thead>\n",
        "    <tr style=\"text-align: right;\">\n",
        "      <th></th>\n",
        "      <th>name</th>\n",
        "    </tr>\n",
        "  </thead>\n",
        "  <tbody>\n",
        "    <tr>\n",
        "      <th>0</th>\n",
        "      <td>  Daniel Lewis</td>\n",
        "    </tr>\n",
        "    <tr>\n",
        "      <th>1</th>\n",
        "      <td> Chris Jackson</td>\n",
        "    </tr>\n",
        "  </tbody>\n",
        "</table>\n",
        "</div>"
       ],
       "metadata": {},
       "output_type": "pyout",
       "prompt_number": 12,
       "text": [
        "            name\n",
        "0   Daniel Lewis\n",
        "1  Chris Jackson"
       ]
      }
     ],
     "prompt_number": 12
    },
    {
     "cell_type": "markdown",
     "metadata": {},
     "source": [
      "Write a query to return the ratings data in a more readable format: reviewer name, movie title, stars, and ratingDate. Also, sort the data, first by reviewer name, then by movie title, and lastly by number of stars. \n",
      " "
     ]
    },
    {
     "cell_type": "code",
     "collapsed": false,
     "input": [
      " q = \"\"\"\n",
      "select name, title, stars, ratingDate\n",
      "from Movie, Rating, Reviewer\n",
      "where Movie.mID = Rating.mID and Reviewer.rID = Rating.rID\n",
      "order by name, title, stars;\n",
      "\"\"\"\n",
      "df = pd.read_sql(q, con)\n",
      "df"
     ],
     "language": "python",
     "metadata": {},
     "outputs": [
      {
       "html": [
        "<div style=\"max-height:1000px;max-width:1500px;overflow:auto;\">\n",
        "<table border=\"1\" class=\"dataframe\">\n",
        "  <thead>\n",
        "    <tr style=\"text-align: right;\">\n",
        "      <th></th>\n",
        "      <th>name</th>\n",
        "      <th>title</th>\n",
        "      <th>stars</th>\n",
        "      <th>ratingDate</th>\n",
        "    </tr>\n",
        "  </thead>\n",
        "  <tbody>\n",
        "    <tr>\n",
        "      <th>0 </th>\n",
        "      <td>     Ashley White</td>\n",
        "      <td>                    E.T.</td>\n",
        "      <td> 3</td>\n",
        "      <td> 2011-01-02</td>\n",
        "    </tr>\n",
        "    <tr>\n",
        "      <th>1 </th>\n",
        "      <td>  Brittany Harris</td>\n",
        "      <td> Raiders of the Lost Ark</td>\n",
        "      <td> 2</td>\n",
        "      <td> 2011-01-30</td>\n",
        "    </tr>\n",
        "    <tr>\n",
        "      <th>2 </th>\n",
        "      <td>  Brittany Harris</td>\n",
        "      <td> Raiders of the Lost Ark</td>\n",
        "      <td> 4</td>\n",
        "      <td> 2011-01-12</td>\n",
        "    </tr>\n",
        "    <tr>\n",
        "      <th>3 </th>\n",
        "      <td>  Brittany Harris</td>\n",
        "      <td>      The Sound of Music</td>\n",
        "      <td> 2</td>\n",
        "      <td> 2011-01-20</td>\n",
        "    </tr>\n",
        "    <tr>\n",
        "      <th>4 </th>\n",
        "      <td>    Chris Jackson</td>\n",
        "      <td>                    E.T.</td>\n",
        "      <td> 2</td>\n",
        "      <td> 2011-01-22</td>\n",
        "    </tr>\n",
        "    <tr>\n",
        "      <th>5 </th>\n",
        "      <td>    Chris Jackson</td>\n",
        "      <td> Raiders of the Lost Ark</td>\n",
        "      <td> 4</td>\n",
        "      <td>       None</td>\n",
        "    </tr>\n",
        "    <tr>\n",
        "      <th>6 </th>\n",
        "      <td>    Chris Jackson</td>\n",
        "      <td>      The Sound of Music</td>\n",
        "      <td> 3</td>\n",
        "      <td> 2011-01-27</td>\n",
        "    </tr>\n",
        "    <tr>\n",
        "      <th>7 </th>\n",
        "      <td>     Daniel Lewis</td>\n",
        "      <td>              Snow White</td>\n",
        "      <td> 4</td>\n",
        "      <td>       None</td>\n",
        "    </tr>\n",
        "    <tr>\n",
        "      <th>8 </th>\n",
        "      <td> Elizabeth Thomas</td>\n",
        "      <td>                  Avatar</td>\n",
        "      <td> 3</td>\n",
        "      <td> 2011-01-15</td>\n",
        "    </tr>\n",
        "    <tr>\n",
        "      <th>9 </th>\n",
        "      <td> Elizabeth Thomas</td>\n",
        "      <td>              Snow White</td>\n",
        "      <td> 5</td>\n",
        "      <td> 2011-01-19</td>\n",
        "    </tr>\n",
        "    <tr>\n",
        "      <th>10</th>\n",
        "      <td>    James Cameron</td>\n",
        "      <td>                  Avatar</td>\n",
        "      <td> 5</td>\n",
        "      <td> 2011-01-20</td>\n",
        "    </tr>\n",
        "    <tr>\n",
        "      <th>11</th>\n",
        "      <td>    Mike Anderson</td>\n",
        "      <td>      Gone with the Wind</td>\n",
        "      <td> 3</td>\n",
        "      <td> 2011-01-09</td>\n",
        "    </tr>\n",
        "    <tr>\n",
        "      <th>12</th>\n",
        "      <td>   Sarah Martinez</td>\n",
        "      <td>      Gone with the Wind</td>\n",
        "      <td> 2</td>\n",
        "      <td> 2011-01-22</td>\n",
        "    </tr>\n",
        "    <tr>\n",
        "      <th>13</th>\n",
        "      <td>   Sarah Martinez</td>\n",
        "      <td>      Gone with the Wind</td>\n",
        "      <td> 4</td>\n",
        "      <td> 2011-01-27</td>\n",
        "    </tr>\n",
        "  </tbody>\n",
        "</table>\n",
        "</div>"
       ],
       "metadata": {},
       "output_type": "pyout",
       "prompt_number": 13,
       "text": [
        "                name                    title  stars  ratingDate\n",
        "0       Ashley White                     E.T.      3  2011-01-02\n",
        "1    Brittany Harris  Raiders of the Lost Ark      2  2011-01-30\n",
        "2    Brittany Harris  Raiders of the Lost Ark      4  2011-01-12\n",
        "3    Brittany Harris       The Sound of Music      2  2011-01-20\n",
        "4      Chris Jackson                     E.T.      2  2011-01-22\n",
        "5      Chris Jackson  Raiders of the Lost Ark      4        None\n",
        "6      Chris Jackson       The Sound of Music      3  2011-01-27\n",
        "7       Daniel Lewis               Snow White      4        None\n",
        "8   Elizabeth Thomas                   Avatar      3  2011-01-15\n",
        "9   Elizabeth Thomas               Snow White      5  2011-01-19\n",
        "10     James Cameron                   Avatar      5  2011-01-20\n",
        "11     Mike Anderson       Gone with the Wind      3  2011-01-09\n",
        "12    Sarah Martinez       Gone with the Wind      2  2011-01-22\n",
        "13    Sarah Martinez       Gone with the Wind      4  2011-01-27"
       ]
      }
     ],
     "prompt_number": 13
    },
    {
     "cell_type": "markdown",
     "metadata": {},
     "source": [
      "For all cases where the same reviewer rated the same movie twice and gave it a higher rating the second time, return the reviewer's name and the title of the movie. "
     ]
    },
    {
     "cell_type": "code",
     "collapsed": false,
     "input": [
      " q = \"\"\"\n",
      "select name, title\n",
      "from Movie, Reviewer, (select R1.rID, R1.mID\n",
      "  from Rating R1, Rating R2\n",
      "  where R1.rID = R2.rID \n",
      "  and R1.mID = R2.mID\n",
      "  and R1.stars < R2.stars\n",
      "  and R1.ratingDate < R2.ratingDate) C\n",
      "where Movie.mID = C.mID\n",
      "and Reviewer.rID = C.rID;\n",
      "\"\"\"\n",
      "df = pd.read_sql(q, con)\n",
      "df"
     ],
     "language": "python",
     "metadata": {},
     "outputs": [
      {
       "html": [
        "<div style=\"max-height:1000px;max-width:1500px;overflow:auto;\">\n",
        "<table border=\"1\" class=\"dataframe\">\n",
        "  <thead>\n",
        "    <tr style=\"text-align: right;\">\n",
        "      <th></th>\n",
        "      <th>name</th>\n",
        "      <th>title</th>\n",
        "    </tr>\n",
        "  </thead>\n",
        "  <tbody>\n",
        "    <tr>\n",
        "      <th>0</th>\n",
        "      <td> Sarah Martinez</td>\n",
        "      <td> Gone with the Wind</td>\n",
        "    </tr>\n",
        "  </tbody>\n",
        "</table>\n",
        "</div>"
       ],
       "metadata": {},
       "output_type": "pyout",
       "prompt_number": 14,
       "text": [
        "             name               title\n",
        "0  Sarah Martinez  Gone with the Wind"
       ]
      }
     ],
     "prompt_number": 14
    },
    {
     "cell_type": "markdown",
     "metadata": {},
     "source": [
      "For each movie that has at least one rating, find the highest number of stars that movie received. Return the movie title and number of stars. Sort by movie title. "
     ]
    },
    {
     "cell_type": "code",
     "collapsed": false,
     "input": [
      " q = \"\"\"\n",
      "select title, stars\n",
      "from Movie, ( select Movie.mID, stars\n",
      "              from Movie, Rating\n",
      "              where Movie.mID = Rating.mID\n",
      "              except\n",
      "              select R1.mID, R1.stars\n",
      "              from Rating R1, Rating R2\n",
      "              where R1.mID = R2.mID\n",
      "              and R1.stars < R2.stars) Stars\n",
      "where Movie.mID = Stars.mID\n",
      "order by title;\n",
      "\"\"\"\n",
      "df = pd.read_sql(q, con)\n",
      "df"
     ],
     "language": "python",
     "metadata": {},
     "outputs": [
      {
       "html": [
        "<div style=\"max-height:1000px;max-width:1500px;overflow:auto;\">\n",
        "<table border=\"1\" class=\"dataframe\">\n",
        "  <thead>\n",
        "    <tr style=\"text-align: right;\">\n",
        "      <th></th>\n",
        "      <th>title</th>\n",
        "      <th>stars</th>\n",
        "    </tr>\n",
        "  </thead>\n",
        "  <tbody>\n",
        "    <tr>\n",
        "      <th>0</th>\n",
        "      <td>                  Avatar</td>\n",
        "      <td> 5</td>\n",
        "    </tr>\n",
        "    <tr>\n",
        "      <th>1</th>\n",
        "      <td>                    E.T.</td>\n",
        "      <td> 3</td>\n",
        "    </tr>\n",
        "    <tr>\n",
        "      <th>2</th>\n",
        "      <td>      Gone with the Wind</td>\n",
        "      <td> 4</td>\n",
        "    </tr>\n",
        "    <tr>\n",
        "      <th>3</th>\n",
        "      <td> Raiders of the Lost Ark</td>\n",
        "      <td> 4</td>\n",
        "    </tr>\n",
        "    <tr>\n",
        "      <th>4</th>\n",
        "      <td>              Snow White</td>\n",
        "      <td> 5</td>\n",
        "    </tr>\n",
        "    <tr>\n",
        "      <th>5</th>\n",
        "      <td>      The Sound of Music</td>\n",
        "      <td> 3</td>\n",
        "    </tr>\n",
        "  </tbody>\n",
        "</table>\n",
        "</div>"
       ],
       "metadata": {},
       "output_type": "pyout",
       "prompt_number": 15,
       "text": [
        "                     title  stars\n",
        "0                   Avatar      5\n",
        "1                     E.T.      3\n",
        "2       Gone with the Wind      4\n",
        "3  Raiders of the Lost Ark      4\n",
        "4               Snow White      5\n",
        "5       The Sound of Music      3"
       ]
      }
     ],
     "prompt_number": 15
    },
    {
     "cell_type": "markdown",
     "metadata": {},
     "source": [
      "For each movie, return the title and the 'rating spread', that is, the difference between highest and lowest ratings given to that movie. Sort by rating spread from highest to lowest, then by movie title. "
     ]
    },
    {
     "cell_type": "code",
     "collapsed": false,
     "input": [
      " q = \"\"\"\n",
      "select title, spread\n",
      "from Movie, (\n",
      "  select mID, max(stars) - min(stars) as spread\n",
      "  from Rating\n",
      "  group by mID\n",
      ") RatingSpread\n",
      "where Movie.mID = RatingSpread.mID\n",
      "order by spread DESC, title;\n",
      "\"\"\"\n",
      "df = pd.read_sql(q, con)\n",
      "df"
     ],
     "language": "python",
     "metadata": {},
     "outputs": [
      {
       "html": [
        "<div style=\"max-height:1000px;max-width:1500px;overflow:auto;\">\n",
        "<table border=\"1\" class=\"dataframe\">\n",
        "  <thead>\n",
        "    <tr style=\"text-align: right;\">\n",
        "      <th></th>\n",
        "      <th>title</th>\n",
        "      <th>spread</th>\n",
        "    </tr>\n",
        "  </thead>\n",
        "  <tbody>\n",
        "    <tr>\n",
        "      <th>0</th>\n",
        "      <td>                  Avatar</td>\n",
        "      <td> 2</td>\n",
        "    </tr>\n",
        "    <tr>\n",
        "      <th>1</th>\n",
        "      <td>      Gone with the Wind</td>\n",
        "      <td> 2</td>\n",
        "    </tr>\n",
        "    <tr>\n",
        "      <th>2</th>\n",
        "      <td> Raiders of the Lost Ark</td>\n",
        "      <td> 2</td>\n",
        "    </tr>\n",
        "    <tr>\n",
        "      <th>3</th>\n",
        "      <td>                    E.T.</td>\n",
        "      <td> 1</td>\n",
        "    </tr>\n",
        "    <tr>\n",
        "      <th>4</th>\n",
        "      <td>              Snow White</td>\n",
        "      <td> 1</td>\n",
        "    </tr>\n",
        "    <tr>\n",
        "      <th>5</th>\n",
        "      <td>      The Sound of Music</td>\n",
        "      <td> 1</td>\n",
        "    </tr>\n",
        "  </tbody>\n",
        "</table>\n",
        "</div>"
       ],
       "metadata": {},
       "output_type": "pyout",
       "prompt_number": 16,
       "text": [
        "                     title  spread\n",
        "0                   Avatar       2\n",
        "1       Gone with the Wind       2\n",
        "2  Raiders of the Lost Ark       2\n",
        "3                     E.T.       1\n",
        "4               Snow White       1\n",
        "5       The Sound of Music       1"
       ]
      }
     ],
     "prompt_number": 16
    },
    {
     "cell_type": "markdown",
     "metadata": {},
     "source": [
      "Find the difference between the average rating of movies released before 1980 and the average rating of movies released after 1980. (Make sure to calculate the average rating for each movie, then the average of those averages for movies before 1980 and movies after. Don't just calculate the overall average rating before and after 1980.) "
     ]
    },
    {
     "cell_type": "code",
     "collapsed": false,
     "input": [
      " q = \"\"\"\n",
      "select avg(before_80.group_avg) - avg(post_80.group_avg)\n",
      "from (\n",
      "  select Movie.mID, avg(stars) as group_avg\n",
      "  from Rating, Movie\n",
      "  where Rating.mID = Movie.mID\n",
      "  and year <= 1980\n",
      "  group by Rating.mID\n",
      ") as before_80,\n",
      "(\n",
      "  select Movie.mID, avg(stars) as group_avg\n",
      "  from Rating, Movie\n",
      "  where Rating.mID = Movie.mID\n",
      "  and year > 1980\n",
      "  group by Rating.mID\n",
      ") as post_80\n",
      "\"\"\"\n",
      "df = pd.read_sql(q, con)\n",
      "df"
     ],
     "language": "python",
     "metadata": {},
     "outputs": [
      {
       "html": [
        "<div style=\"max-height:1000px;max-width:1500px;overflow:auto;\">\n",
        "<table border=\"1\" class=\"dataframe\">\n",
        "  <thead>\n",
        "    <tr style=\"text-align: right;\">\n",
        "      <th></th>\n",
        "      <th>avg(before_80.group_avg) - avg(post_80.group_avg)</th>\n",
        "    </tr>\n",
        "  </thead>\n",
        "  <tbody>\n",
        "    <tr>\n",
        "      <th>0</th>\n",
        "      <td> 0.055556</td>\n",
        "    </tr>\n",
        "  </tbody>\n",
        "</table>\n",
        "</div>"
       ],
       "metadata": {},
       "output_type": "pyout",
       "prompt_number": 17,
       "text": [
        "   avg(before_80.group_avg) - avg(post_80.group_avg)\n",
        "0                                           0.055556"
       ]
      }
     ],
     "prompt_number": 17
    },
    {
     "cell_type": "heading",
     "level": 1,
     "metadata": {},
     "source": [
      "The Social Network"
     ]
    },
    {
     "cell_type": "markdown",
     "metadata": {},
     "source": [
      "Students at your hometown high school have decided to organize their social network using databases. So far, they have collected information about sixteen students in four grades, 9-12. Here's the schema: \n",
      "\n",
      "Highschooler ( ID, name, grade ) \n",
      "English: There is a high school student with unique ID and a given first name in a certain grade. \n",
      "\n",
      "Friend ( ID1, ID2 ) \n",
      "English: The student with ID1 is friends with the student with ID2. Friendship is mutual, so if (123, 456) is in the Friend table, so is (456, 123). \n",
      "\n",
      "Likes ( ID1, ID2 ) \n",
      "English: The student with ID1 likes the student with ID2. Liking someone is not necessarily mutual, so if (123, 456) is in the Likes table, there is no guarantee that (456, 123) is also present. "
     ]
    },
    {
     "cell_type": "code",
     "collapsed": false,
     "input": [
      "con = sqlite3.connect(\"social.sqlite\")\n",
      "df = pd.read_sql(\"SELECT * from Highschooler limit 3\", con)\n",
      "df"
     ],
     "language": "python",
     "metadata": {},
     "outputs": [
      {
       "html": [
        "<div style=\"max-height:1000px;max-width:1500px;overflow:auto;\">\n",
        "<table border=\"1\" class=\"dataframe\">\n",
        "  <thead>\n",
        "    <tr style=\"text-align: right;\">\n",
        "      <th></th>\n",
        "      <th>ID</th>\n",
        "      <th>name</th>\n",
        "      <th>grade</th>\n",
        "    </tr>\n",
        "  </thead>\n",
        "  <tbody>\n",
        "    <tr>\n",
        "      <th>0</th>\n",
        "      <td> 1510</td>\n",
        "      <td>  Jordan</td>\n",
        "      <td> 9</td>\n",
        "    </tr>\n",
        "    <tr>\n",
        "      <th>1</th>\n",
        "      <td> 1689</td>\n",
        "      <td> Gabriel</td>\n",
        "      <td> 9</td>\n",
        "    </tr>\n",
        "    <tr>\n",
        "      <th>2</th>\n",
        "      <td> 1381</td>\n",
        "      <td> Tiffany</td>\n",
        "      <td> 9</td>\n",
        "    </tr>\n",
        "  </tbody>\n",
        "</table>\n",
        "</div>"
       ],
       "metadata": {},
       "output_type": "pyout",
       "prompt_number": 42,
       "text": [
        "     ID     name  grade\n",
        "0  1510   Jordan      9\n",
        "1  1689  Gabriel      9\n",
        "2  1381  Tiffany      9"
       ]
      }
     ],
     "prompt_number": 42
    },
    {
     "cell_type": "markdown",
     "metadata": {},
     "source": [
      "Find the names of all students who are friends with someone named Gabriel. \n"
     ]
    },
    {
     "cell_type": "code",
     "collapsed": false,
     "input": [
      " q = \"\"\"\n",
      "select H2.name\n",
      "from Highschooler H1, Highschooler H2, Friend\n",
      "where H1.ID = Friend.ID1\n",
      "and H1.name = 'Gabriel'\n",
      "and H2.ID = Friend.ID2;\n",
      "\"\"\"\n",
      "df = pd.read_sql(q, con)\n",
      "df"
     ],
     "language": "python",
     "metadata": {},
     "outputs": [
      {
       "html": [
        "<div style=\"max-height:1000px;max-width:1500px;overflow:auto;\">\n",
        "<table border=\"1\" class=\"dataframe\">\n",
        "  <thead>\n",
        "    <tr style=\"text-align: right;\">\n",
        "      <th></th>\n",
        "      <th>name</th>\n",
        "    </tr>\n",
        "  </thead>\n",
        "  <tbody>\n",
        "    <tr>\n",
        "      <th>0</th>\n",
        "      <td>    Jordan</td>\n",
        "    </tr>\n",
        "    <tr>\n",
        "      <th>1</th>\n",
        "      <td> Cassandra</td>\n",
        "    </tr>\n",
        "    <tr>\n",
        "      <th>2</th>\n",
        "      <td>    Andrew</td>\n",
        "    </tr>\n",
        "    <tr>\n",
        "      <th>3</th>\n",
        "      <td>    Alexis</td>\n",
        "    </tr>\n",
        "    <tr>\n",
        "      <th>4</th>\n",
        "      <td>   Jessica</td>\n",
        "    </tr>\n",
        "  </tbody>\n",
        "</table>\n",
        "</div>"
       ],
       "metadata": {},
       "output_type": "pyout",
       "prompt_number": 43,
       "text": [
        "        name\n",
        "0     Jordan\n",
        "1  Cassandra\n",
        "2     Andrew\n",
        "3     Alexis\n",
        "4    Jessica"
       ]
      }
     ],
     "prompt_number": 43
    },
    {
     "cell_type": "markdown",
     "metadata": {},
     "source": [
      "For every student who likes someone 2 or more grades younger than themselves, return that student's name and grade, and the name and grade of the student they like. "
     ]
    },
    {
     "cell_type": "code",
     "collapsed": false,
     "input": [
      " q = \"\"\"\n",
      "select H1.name, H1.grade, H2.name, H2.grade\n",
      "from Likes, Highschooler H1, Highschooler H2\n",
      "where Likes.ID1 = H1.ID\n",
      "and Likes.ID2 = H2.ID\n",
      "and H1.grade >= (H2.grade + 2)\n",
      "\"\"\"\n",
      "df = pd.read_sql(q, con)\n",
      "df"
     ],
     "language": "python",
     "metadata": {},
     "outputs": [
      {
       "html": [
        "<div style=\"max-height:1000px;max-width:1500px;overflow:auto;\">\n",
        "<table border=\"1\" class=\"dataframe\">\n",
        "  <thead>\n",
        "    <tr style=\"text-align: right;\">\n",
        "      <th></th>\n",
        "      <th>name</th>\n",
        "      <th>grade</th>\n",
        "      <th>name</th>\n",
        "      <th>grade</th>\n",
        "    </tr>\n",
        "  </thead>\n",
        "  <tbody>\n",
        "    <tr>\n",
        "      <th>0</th>\n",
        "      <td> John</td>\n",
        "      <td> 12</td>\n",
        "      <td> Haley</td>\n",
        "      <td> 10</td>\n",
        "    </tr>\n",
        "  </tbody>\n",
        "</table>\n",
        "</div>"
       ],
       "metadata": {},
       "output_type": "pyout",
       "prompt_number": 44,
       "text": [
        "   name  grade   name  grade\n",
        "0  John     12  Haley     10"
       ]
      }
     ],
     "prompt_number": 44
    },
    {
     "cell_type": "markdown",
     "metadata": {},
     "source": [
      "For every pair of students who both like each other, return the name and grade of both students. Include each pair only once, with the two names in alphabetical order. "
     ]
    },
    {
     "cell_type": "code",
     "collapsed": false,
     "input": [
      " q = \"\"\"\n",
      "select H1.name, H1.grade, H2.name, H2.grade\n",
      "from Highschooler H1, Highschooler H2, (\n",
      "  select L1.ID1, L1.ID2\n",
      "  from Likes L1, Likes L2\n",
      "  where L1.ID2 = L2.ID1\n",
      "  and L1.ID1 = L2.ID2\n",
      ") as Pair\n",
      "where H1.ID = Pair.ID1\n",
      "and H2.ID = Pair.ID2\n",
      "and H1.name < H2.name\n",
      "\"\"\"\n",
      "df = pd.read_sql(q, con)\n",
      "df"
     ],
     "language": "python",
     "metadata": {},
     "outputs": [
      {
       "html": [
        "<div style=\"max-height:1000px;max-width:1500px;overflow:auto;\">\n",
        "<table border=\"1\" class=\"dataframe\">\n",
        "  <thead>\n",
        "    <tr style=\"text-align: right;\">\n",
        "      <th></th>\n",
        "      <th>H1.name</th>\n",
        "      <th>H1.grade</th>\n",
        "      <th>H2.name</th>\n",
        "      <th>H2.grade</th>\n",
        "    </tr>\n",
        "  </thead>\n",
        "  <tbody>\n",
        "    <tr>\n",
        "      <th>0</th>\n",
        "      <td> Cassandra</td>\n",
        "      <td>  9</td>\n",
        "      <td> Gabriel</td>\n",
        "      <td>  9</td>\n",
        "    </tr>\n",
        "    <tr>\n",
        "      <th>1</th>\n",
        "      <td>   Jessica</td>\n",
        "      <td> 11</td>\n",
        "      <td>    Kyle</td>\n",
        "      <td> 12</td>\n",
        "    </tr>\n",
        "  </tbody>\n",
        "</table>\n",
        "</div>"
       ],
       "metadata": {},
       "output_type": "pyout",
       "prompt_number": 22,
       "text": [
        "     H1.name  H1.grade  H2.name  H2.grade\n",
        "0  Cassandra         9  Gabriel         9\n",
        "1    Jessica        11     Kyle        12"
       ]
      }
     ],
     "prompt_number": 22
    },
    {
     "cell_type": "markdown",
     "metadata": {},
     "source": [
      "Find all students who do not appear in the Likes table (as a student who likes or is liked) and return their names and grades. Sort by grade, then by name within each grade. "
     ]
    },
    {
     "cell_type": "code",
     "collapsed": false,
     "input": [
      " q = \"\"\"\n",
      "select name, grade\n",
      "from Highschooler\n",
      "where ID not in (\n",
      "  select ID1 from Likes\n",
      "  union\n",
      "  select ID2 from Likes\n",
      ")\n",
      "order by grade, name\n",
      "\"\"\"\n",
      "df = pd.read_sql(q, con)\n",
      "df"
     ],
     "language": "python",
     "metadata": {},
     "outputs": [
      {
       "html": [
        "<div style=\"max-height:1000px;max-width:1500px;overflow:auto;\">\n",
        "<table border=\"1\" class=\"dataframe\">\n",
        "  <thead>\n",
        "    <tr style=\"text-align: right;\">\n",
        "      <th></th>\n",
        "      <th>name</th>\n",
        "      <th>grade</th>\n",
        "    </tr>\n",
        "  </thead>\n",
        "  <tbody>\n",
        "    <tr>\n",
        "      <th>0</th>\n",
        "      <td>  Jordan</td>\n",
        "      <td>  9</td>\n",
        "    </tr>\n",
        "    <tr>\n",
        "      <th>1</th>\n",
        "      <td> Tiffany</td>\n",
        "      <td>  9</td>\n",
        "    </tr>\n",
        "    <tr>\n",
        "      <th>2</th>\n",
        "      <td>   Logan</td>\n",
        "      <td> 12</td>\n",
        "    </tr>\n",
        "  </tbody>\n",
        "</table>\n",
        "</div>"
       ],
       "metadata": {},
       "output_type": "pyout",
       "prompt_number": 23,
       "text": [
        "      name  grade\n",
        "0   Jordan      9\n",
        "1  Tiffany      9\n",
        "2    Logan     12"
       ]
      }
     ],
     "prompt_number": 23
    },
    {
     "cell_type": "markdown",
     "metadata": {},
     "source": [
      "For every situation where student A likes student B, but we have no information about whom B likes (that is, B does not appear as an ID1 in the Likes table), return A and B's names and grades. "
     ]
    },
    {
     "cell_type": "code",
     "collapsed": false,
     "input": [
      " q = \"\"\"\n",
      "select H1.name, H1.grade, H2.name, H2.grade, H3.name, H3.grade\n",
      "from Likes L1, Likes L2, Highschooler H1, Highschooler H2, Highschooler H3\n",
      "where L1.ID2 = L2.ID1\n",
      "and L2.ID2 <> L1.ID1\n",
      "and L1.ID1 = H1.ID and L1.ID2 = H2.ID and L2.ID2 = H3.ID\n",
      "\"\"\"\n",
      "df = pd.read_sql(q, con)\n",
      "df"
     ],
     "language": "python",
     "metadata": {},
     "outputs": [
      {
       "html": [
        "<div style=\"max-height:1000px;max-width:1500px;overflow:auto;\">\n",
        "<table border=\"1\" class=\"dataframe\">\n",
        "  <thead>\n",
        "    <tr style=\"text-align: right;\">\n",
        "      <th></th>\n",
        "      <th>name</th>\n",
        "      <th>grade</th>\n",
        "      <th>name</th>\n",
        "      <th>grade</th>\n",
        "      <th>name</th>\n",
        "      <th>grade</th>\n",
        "    </tr>\n",
        "  </thead>\n",
        "  <tbody>\n",
        "    <tr>\n",
        "      <th>0</th>\n",
        "      <td>  Andrew</td>\n",
        "      <td> 10</td>\n",
        "      <td> Cassandra</td>\n",
        "      <td>  9</td>\n",
        "      <td> Gabriel</td>\n",
        "      <td>  9</td>\n",
        "    </tr>\n",
        "    <tr>\n",
        "      <th>1</th>\n",
        "      <td> Gabriel</td>\n",
        "      <td> 11</td>\n",
        "      <td>    Alexis</td>\n",
        "      <td> 11</td>\n",
        "      <td>    Kris</td>\n",
        "      <td> 10</td>\n",
        "    </tr>\n",
        "  </tbody>\n",
        "</table>\n",
        "</div>"
       ],
       "metadata": {},
       "output_type": "pyout",
       "prompt_number": 24,
       "text": [
        "      name  grade       name  grade     name  grade\n",
        "0   Andrew     10  Cassandra      9  Gabriel      9\n",
        "1  Gabriel     11     Alexis     11     Kris     10"
       ]
      }
     ],
     "prompt_number": 24
    },
    {
     "cell_type": "markdown",
     "metadata": {},
     "source": [
      "Find names and grades of students who only have friends in the same grade. Return the result sorted by grade, then by name within each grade. "
     ]
    },
    {
     "cell_type": "code",
     "collapsed": false,
     "input": [
      " q = \"\"\"\n",
      "select name, grade\n",
      "from Highschooler, (\n",
      "  select ID1 from Friend\n",
      "  except\n",
      "  -- students have friends in same grade\n",
      "  select distinct Friend.ID1\n",
      "  from Friend, Highschooler H1, Highschooler H2\n",
      "  where Friend.ID1 = H1.ID and Friend.ID2 = H2.ID\n",
      "  and H1.grade != H2.grade\n",
      ") as Sample\n",
      "where Highschooler.ID = Sample.ID1\n",
      "order by grade, name\n",
      "\"\"\"\n",
      "df = pd.read_sql(q, con)\n",
      "df"
     ],
     "language": "python",
     "metadata": {},
     "outputs": [
      {
       "html": [
        "<div style=\"max-height:1000px;max-width:1500px;overflow:auto;\">\n",
        "<table border=\"1\" class=\"dataframe\">\n",
        "  <thead>\n",
        "    <tr style=\"text-align: right;\">\n",
        "      <th></th>\n",
        "      <th>name</th>\n",
        "      <th>grade</th>\n",
        "    </tr>\n",
        "  </thead>\n",
        "  <tbody>\n",
        "    <tr>\n",
        "      <th>0</th>\n",
        "      <td>   Jordan</td>\n",
        "      <td>  9</td>\n",
        "    </tr>\n",
        "    <tr>\n",
        "      <th>1</th>\n",
        "      <td> Brittany</td>\n",
        "      <td> 10</td>\n",
        "    </tr>\n",
        "    <tr>\n",
        "      <th>2</th>\n",
        "      <td>    Haley</td>\n",
        "      <td> 10</td>\n",
        "    </tr>\n",
        "    <tr>\n",
        "      <th>3</th>\n",
        "      <td>     Kris</td>\n",
        "      <td> 10</td>\n",
        "    </tr>\n",
        "    <tr>\n",
        "      <th>4</th>\n",
        "      <td>  Gabriel</td>\n",
        "      <td> 11</td>\n",
        "    </tr>\n",
        "    <tr>\n",
        "      <th>5</th>\n",
        "      <td>     John</td>\n",
        "      <td> 12</td>\n",
        "    </tr>\n",
        "    <tr>\n",
        "      <th>6</th>\n",
        "      <td>    Logan</td>\n",
        "      <td> 12</td>\n",
        "    </tr>\n",
        "  </tbody>\n",
        "</table>\n",
        "</div>"
       ],
       "metadata": {},
       "output_type": "pyout",
       "prompt_number": 25,
       "text": [
        "       name  grade\n",
        "0    Jordan      9\n",
        "1  Brittany     10\n",
        "2     Haley     10\n",
        "3      Kris     10\n",
        "4   Gabriel     11\n",
        "5      John     12\n",
        "6     Logan     12"
       ]
      }
     ],
     "prompt_number": 25
    },
    {
     "cell_type": "markdown",
     "metadata": {},
     "source": [
      "For each student A who likes a student B where the two are not friends, find if they have a friend C in common (who can introduce them!). For all such trios, return the name and grade of A, B, and C. "
     ]
    },
    {
     "cell_type": "code",
     "collapsed": false,
     "input": [
      " q = \"\"\"\n",
      "select H1.name, H1.grade, H2.name, H2.grade, H3.name, H3.grade\n",
      "from Highschooler H1, Highschooler H2, Highschooler H3, Friend F1, Friend F2, (\n",
      "  select * from Likes\n",
      "  except\n",
      "  -- A likes B and A/B are friends\n",
      "  select Likes.ID1, Likes.ID2\n",
      "  from Likes, Friend\n",
      "  where Friend.ID1 = Likes.ID1 and Friend.ID2 = Likes.ID2\n",
      ") as LikeNotFriend\n",
      "where F1.ID1 = LikeNotFriend.ID1\n",
      "and F2.ID1 = LikeNotFriend.ID2\n",
      "-- has a shared friend\n",
      "and F1.ID2 = F2.ID2\n",
      "and H1.ID = LikeNotFriend.ID1\n",
      "and H2.ID = LikeNotFriend.ID2\n",
      "and H3.ID = F2.ID2\n",
      "\"\"\"\n",
      "df = pd.read_sql(q, con)\n",
      "df"
     ],
     "language": "python",
     "metadata": {},
     "outputs": [
      {
       "html": [
        "<div style=\"max-height:1000px;max-width:1500px;overflow:auto;\">\n",
        "<table border=\"1\" class=\"dataframe\">\n",
        "  <thead>\n",
        "    <tr style=\"text-align: right;\">\n",
        "      <th></th>\n",
        "      <th>name</th>\n",
        "      <th>grade</th>\n",
        "      <th>name</th>\n",
        "      <th>grade</th>\n",
        "      <th>name</th>\n",
        "      <th>grade</th>\n",
        "    </tr>\n",
        "  </thead>\n",
        "  <tbody>\n",
        "    <tr>\n",
        "      <th>0</th>\n",
        "      <td> Andrew</td>\n",
        "      <td> 10</td>\n",
        "      <td> Cassandra</td>\n",
        "      <td>  9</td>\n",
        "      <td> Gabriel</td>\n",
        "      <td>  9</td>\n",
        "    </tr>\n",
        "    <tr>\n",
        "      <th>1</th>\n",
        "      <td> Austin</td>\n",
        "      <td> 11</td>\n",
        "      <td>    Jordan</td>\n",
        "      <td> 12</td>\n",
        "      <td>  Andrew</td>\n",
        "      <td> 10</td>\n",
        "    </tr>\n",
        "    <tr>\n",
        "      <th>2</th>\n",
        "      <td> Austin</td>\n",
        "      <td> 11</td>\n",
        "      <td>    Jordan</td>\n",
        "      <td> 12</td>\n",
        "      <td>    Kyle</td>\n",
        "      <td> 12</td>\n",
        "    </tr>\n",
        "  </tbody>\n",
        "</table>\n",
        "</div>"
       ],
       "metadata": {},
       "output_type": "pyout",
       "prompt_number": 26,
       "text": [
        "     name  grade       name  grade     name  grade\n",
        "0  Andrew     10  Cassandra      9  Gabriel      9\n",
        "1  Austin     11     Jordan     12   Andrew     10\n",
        "2  Austin     11     Jordan     12     Kyle     12"
       ]
      }
     ],
     "prompt_number": 26
    },
    {
     "cell_type": "markdown",
     "metadata": {},
     "source": [
      "Find the difference between the number of students in the school and the number of different first names. \n"
     ]
    },
    {
     "cell_type": "code",
     "collapsed": false,
     "input": [
      " q = \"\"\"\n",
      "select count(ID) - count(distinct name)\n",
      "from Highschooler\n",
      "\"\"\"\n",
      "df = pd.read_sql(q, con)\n",
      "df"
     ],
     "language": "python",
     "metadata": {},
     "outputs": [
      {
       "html": [
        "<div style=\"max-height:1000px;max-width:1500px;overflow:auto;\">\n",
        "<table border=\"1\" class=\"dataframe\">\n",
        "  <thead>\n",
        "    <tr style=\"text-align: right;\">\n",
        "      <th></th>\n",
        "      <th>count(ID) - count(distinct name)</th>\n",
        "    </tr>\n",
        "  </thead>\n",
        "  <tbody>\n",
        "    <tr>\n",
        "      <th>0</th>\n",
        "      <td> 2</td>\n",
        "    </tr>\n",
        "  </tbody>\n",
        "</table>\n",
        "</div>"
       ],
       "metadata": {},
       "output_type": "pyout",
       "prompt_number": 27,
       "text": [
        "   count(ID) - count(distinct name)\n",
        "0                                 2"
       ]
      }
     ],
     "prompt_number": 27
    },
    {
     "cell_type": "markdown",
     "metadata": {},
     "source": [
      "Find the name and grade of all students who are liked by more than one other student. \n"
     ]
    },
    {
     "cell_type": "code",
     "collapsed": false,
     "input": [
      " q = \"\"\"\n",
      "select name, grade\n",
      "from Highschooler, (\n",
      "  select count(ID1) as count, ID2\n",
      "  from Likes\n",
      "  group by ID2\n",
      ") as LikeCount\n",
      "where Highschooler.ID = LikeCount.ID2\n",
      "and count > 1\n",
      "\"\"\"\n",
      "df = pd.read_sql(q, con)\n",
      "df"
     ],
     "language": "python",
     "metadata": {},
     "outputs": [
      {
       "html": [
        "<div style=\"max-height:1000px;max-width:1500px;overflow:auto;\">\n",
        "<table border=\"1\" class=\"dataframe\">\n",
        "  <thead>\n",
        "    <tr style=\"text-align: right;\">\n",
        "      <th></th>\n",
        "      <th>name</th>\n",
        "      <th>grade</th>\n",
        "    </tr>\n",
        "  </thead>\n",
        "  <tbody>\n",
        "    <tr>\n",
        "      <th>0</th>\n",
        "      <td> Cassandra</td>\n",
        "      <td>  9</td>\n",
        "    </tr>\n",
        "    <tr>\n",
        "      <th>1</th>\n",
        "      <td>      Kris</td>\n",
        "      <td> 10</td>\n",
        "    </tr>\n",
        "  </tbody>\n",
        "</table>\n",
        "</div>"
       ],
       "metadata": {},
       "output_type": "pyout",
       "prompt_number": 28,
       "text": [
        "        name  grade\n",
        "0  Cassandra      9\n",
        "1       Kris     10"
       ]
      }
     ],
     "prompt_number": 28
    },
    {
     "cell_type": "heading",
     "level": 2,
     "metadata": {},
     "source": [
      "Modification"
     ]
    },
    {
     "cell_type": "markdown",
     "metadata": {},
     "source": [
      "Add the reviewer Roger Ebert to your database, with an rID of 209. \n"
     ]
    },
    {
     "cell_type": "code",
     "collapsed": false,
     "input": [
      "con = sqlite3.connect(\"movie-ratings.sqlite\")\n",
      "c = con.cursor()\n",
      "q = \"insert into Reviewer(rID, name) values (209, 'Roger Ebert')\"\n",
      "c.execute(q)\n",
      "con.commit()\n",
      "con.close()"
     ],
     "language": "python",
     "metadata": {},
     "outputs": [],
     "prompt_number": 3
    },
    {
     "cell_type": "markdown",
     "metadata": {},
     "source": [
      "Insert 5-star ratings by James Cameron for all movies in the database. Leave the review date as NULL. \n"
     ]
    },
    {
     "cell_type": "code",
     "collapsed": false,
     "input": [
      "con = sqlite3.connect(\"movie-ratings.sqlite\")\n",
      "c = con.cursor()\n",
      "q = \"\"\"\n",
      "insert into Rating\n",
      "  select Rating.rID, Movie.mID, 5 as stars, null as ratingDate\n",
      "  from Rating, Movie, Reviewer\n",
      "  where Rating.rID = Reviewer.rID\n",
      "  and Reviewer.name = 'James Cameron';\n",
      "\"\"\"\n",
      "c.execute(q)\n",
      "con.commit()\n",
      "con.close()"
     ],
     "language": "python",
     "metadata": {},
     "outputs": [],
     "prompt_number": 6
    },
    {
     "cell_type": "markdown",
     "metadata": {},
     "source": [
      "For all movies that have an average rating of 4 stars or higher, add 25 to the release year. (Update the existing tuples; don't insert new tuples.) "
     ]
    },
    {
     "cell_type": "code",
     "collapsed": false,
     "input": [
      "con = sqlite3.connect(\"movie-ratings.sqlite\")\n",
      "c = con.cursor()\n",
      "q = \"\"\"\n",
      "update Movie\n",
      "set year = year + 25\n",
      "where mID in (\n",
      "  select Movie.mId\n",
      "  from Movie, Rating\n",
      "  where Movie.mID = Rating.mID\n",
      "  group by Movie.mID\n",
      "  having avg(stars) >= 4\n",
      ")\n",
      "\"\"\"\n",
      "c.execute(q)\n",
      "con.commit()\n",
      "con.close()"
     ],
     "language": "python",
     "metadata": {},
     "outputs": [],
     "prompt_number": 7
    },
    {
     "cell_type": "markdown",
     "metadata": {},
     "source": [
      "Remove all ratings where the movie's year is before 1970 or after 2000, and the rating is fewer than 4 stars. "
     ]
    },
    {
     "cell_type": "code",
     "collapsed": false,
     "input": [
      "con = sqlite3.connect(\"movie-ratings.sqlite\")\n",
      "c = con.cursor()\n",
      "q = \"\"\"\n",
      "delete from Rating\n",
      "where mID in (\n",
      "  select distinct Rating.mID\n",
      "  from Movie, Rating\n",
      "  where Movie.mID = Rating.mID\n",
      "  and (Movie.year > 2000 or Movie.year < 1970)\n",
      ")\n",
      "and stars < 4\n",
      "\"\"\"\n",
      "c.execute(q)\n",
      "con.commit()\n",
      "con.close()"
     ],
     "language": "python",
     "metadata": {},
     "outputs": [],
     "prompt_number": 8
    },
    {
     "cell_type": "markdown",
     "metadata": {},
     "source": [
      "It's time for the seniors to graduate. Remove all 12th graders from Highschooler. \n"
     ]
    },
    {
     "cell_type": "code",
     "collapsed": false,
     "input": [
      "con = sqlite3.connect(\"social.sqlite\")\n",
      "c = con.cursor()\n",
      "q = \"\"\"\n",
      "delete from Highschooler\n",
      "where grade == 12\n",
      "\"\"\"\n",
      "c.execute(q)\n",
      "con.commit()\n",
      "con.close()"
     ],
     "language": "python",
     "metadata": {},
     "outputs": [],
     "prompt_number": 9
    },
    {
     "cell_type": "markdown",
     "metadata": {},
     "source": [
      "If two students A and B are friends, and A likes B but not vice-versa, remove the Likes tuple. \n"
     ]
    },
    {
     "cell_type": "code",
     "collapsed": false,
     "input": [
      "con = sqlite3.connect(\"social.sqlite\")\n",
      "c = con.cursor()\n",
      "q = \"\"\"\n",
      "delete from Likes\n",
      "where ID1 in (\n",
      "  select ID1 from (\n",
      "    select L1.ID1, L1.ID2\n",
      "    from Friend, Likes L1\n",
      "    where Friend.ID1 = L1.ID1\n",
      "    and Friend.ID2 = L1.ID2\n",
      "    except\n",
      "    select L1.ID1, L1.ID2\n",
      "    from Likes L1, Likes L2\n",
      "    where L1.ID1 = L2.ID2\n",
      "    and L1.ID2 = L2.ID1\n",
      "  )\n",
      ")\n",
      "\"\"\"\n",
      "c.execute(q)\n",
      "con.commit()\n",
      "con.close()"
     ],
     "language": "python",
     "metadata": {},
     "outputs": [],
     "prompt_number": 10
    },
    {
     "cell_type": "markdown",
     "metadata": {},
     "source": [
      "For all cases where A is friends with B, and B is friends with C, add a new friendship for the pair A and C. Do not add duplicate friendships, friendships that already exist, or friendships with oneself. (This one is a bit challenging; congratulations if you get it right.) "
     ]
    },
    {
     "cell_type": "code",
     "collapsed": false,
     "input": [
      "con = sqlite3.connect(\"social.sqlite\")\n",
      "c = con.cursor()\n",
      "q = \"\"\"\n",
      "insert into Friend\n",
      "  select F1.ID1, F2.ID2\n",
      "  from Friend F1, Friend F2\n",
      "  where F1.ID2 = F2.ID1\n",
      "  -- friends with oneself\n",
      "  and F1.ID1 <> F2.ID2\n",
      "  -- already exist friendship\n",
      "  except \n",
      "  select * from Friend\n",
      "\"\"\"\n",
      "c.execute(q)\n",
      "con.commit()\n",
      "con.close()"
     ],
     "language": "python",
     "metadata": {},
     "outputs": [],
     "prompt_number": 11
    },
    {
     "cell_type": "code",
     "collapsed": false,
     "input": [],
     "language": "python",
     "metadata": {},
     "outputs": []
    }
   ],
   "metadata": {}
  }
 ]
}